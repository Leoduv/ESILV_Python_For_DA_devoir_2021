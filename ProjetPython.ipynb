{
  "nbformat": 4,
  "nbformat_minor": 0,
  "metadata": {
    "colab": {
      "name": "ProjetPython.ipynb",
      "provenance": [],
      "collapsed_sections": [
        "Rgp9c-tOBoPc",
        "kqYYeCBZQlMg",
        "FlW_7jKbKC9N",
        "99RSSLwOKwSN",
        "t4g5natAidEU",
        "oAxWHiMBiJPF",
        "0VKYCe6JipyK",
        "5Xd_Pgh-Ls1U",
        "plYIzKC1lYOy",
        "ftOe5usZlkqz",
        "S6ISgR4_lxLT",
        "3xjxcO4dl0Um",
        "UPMEgNKxoogW",
        "ZB_s6Jpjo53g",
        "hDb5kDMvavwW",
        "Umr31ReYiE23",
        "ziUFPzSqmspF",
        "lx8OZh6NqHDP",
        "oIolOa2kfYZw",
        "8qYs71ksf3H7",
        "MybZJHGoxhrS",
        "g4FRptlFzj8d",
        "96BnHpEDNwuC",
        "1gsFSfpRWV-Z",
        "JCFsYkQ6rAPC"
      ],
      "toc_visible": true,
      "authorship_tag": "ABX9TyOhvmkSEgSOa79+4wY62c7z",
      "include_colab_link": true
    },
    "kernelspec": {
      "name": "python3",
      "display_name": "Python 3"
    }
  },
  "cells": [
    {
      "cell_type": "markdown",
      "metadata": {
        "id": "view-in-github",
        "colab_type": "text"
      },
      "source": [
        "<a href=\"https://colab.research.google.com/github/Leoduv/ESILV_Python_For_DA_devoir_2021/blob/main/ProjetPython.ipynb\" target=\"_parent\"><img src=\"https://colab.research.google.com/assets/colab-badge.svg\" alt=\"Open In Colab\"/></a>"
      ]
    },
    {
      "cell_type": "code",
      "metadata": {
        "colab": {
          "base_uri": "https://localhost:8080/"
        },
        "id": "R-LyRs64A_G7",
        "outputId": "9479a054-5e76-4939-9ff6-cf6c8eb821f9"
      },
      "source": [
        "from google.colab import drive\r\n",
        "drive.mount('/content/drive')"
      ],
      "execution_count": 1,
      "outputs": [
        {
          "output_type": "stream",
          "text": [
            "Mounted at /content/drive\n"
          ],
          "name": "stdout"
        }
      ]
    },
    {
      "cell_type": "markdown",
      "metadata": {
        "id": "Rgp9c-tOBoPc"
      },
      "source": [
        "# Importation"
      ]
    },
    {
      "cell_type": "code",
      "metadata": {
        "id": "GKL9EqaND1kf"
      },
      "source": [
        "import zipfile\r\n",
        "\r\n",
        "with zipfile.ZipFile(\"/content/drive/MyDrive/Python_For_Data_Analysis/Dataset.zip\",\"r\") as zip_ref:\r\n",
        "    zip_ref.extractall(\"/content/drive/MyDrive/Python_For_Data_Analysis/Dataset\")"
      ],
      "execution_count": null,
      "outputs": []
    },
    {
      "cell_type": "code",
      "metadata": {
        "id": "C_Aim8WsKNAH"
      },
      "source": [
        "path_train = \"/content/drive/MyDrive/Python_For_Data_Analysis/Dataset/Dataset/Training/\"\r\n",
        "\r\n",
        "path_test = \"/content/drive/MyDrive/Python_For_Data_Analysis/Dataset/Dataset/Testing/TestSet/\"\r\n",
        "\r\n",
        "train_files = ['Features_Variant_1.csv', 'Features_Variant_2.csv', 'Features_Variant_3.csv', \r\n",
        "              'Features_Variant_4.csv', 'Features_Variant_5.csv']\r\n",
        "\r\n",
        "test_files = ['Test_Case_1.csv', 'Test_Case_2.csv', 'Test_Case_3.csv',\r\n",
        "              'Test_Case_4.csv', 'Test_Case_5.csv', 'Test_Case_6.csv', \r\n",
        "              'Test_Case_7.csv', 'Test_Case_8.csv', 'Test_Case_9.csv', \r\n",
        "              'Test_Case_10.csv']"
      ],
      "execution_count": null,
      "outputs": []
    },
    {
      "cell_type": "markdown",
      "metadata": {
        "id": "kqYYeCBZQlMg"
      },
      "source": [
        "### Ajouter header aux fichiers"
      ]
    },
    {
      "cell_type": "code",
      "metadata": {
        "id": "mn2HnnUtSSdm"
      },
      "source": [
        "import pandas as pd\r\n",
        "\r\n",
        "header = ['Page_popularity', 'Page_checkins', 'Page_talking_about', 'Page_category', 'CC1_min', 'CC1_max', 'CC1_avg',\r\n",
        " 'CC1_median', 'CC1_std', 'CC2_min', 'CC2_max', 'CC2_avg', 'CC2_median', 'CC2_std', 'CC3_min', 'CC3_max', 'CC3_avg', \r\n",
        " 'CC3_median', 'CC3_std', 'CC4_min', 'CC4_max', 'CC4_avg', 'CC4_median', 'CC4_std', 'CC5_min', 'CC5_max', 'CC5_avg', \r\n",
        " 'CC5_median', 'CC5_std', 'CC1', 'CC2', 'CC3', 'CC4', 'CC5', 'Base_time', 'Post_lenght', 'Post_share_count', \r\n",
        " 'Post_promotion_status', 'H_local', 'Post_published_sunday', 'Post_published_monday', 'Post_published_tuesday', \r\n",
        " 'Post_published_wednesday', 'Post_published_thursday', 'Post_published_friday', 'Post_published_saturday', \r\n",
        " 'Base_DateTime_sunday', 'Base_DateTime_monday', 'Base_DateTime_tuesday', 'Base_DateTime_wednesday', \r\n",
        " 'Base_DateTime_thursday', 'Base_DateTime_friday', 'Base_DateTime_saturday', 'Target_variable']"
      ],
      "execution_count": null,
      "outputs": []
    },
    {
      "cell_type": "markdown",
      "metadata": {
        "id": "1I3T89V-gTUQ"
      },
      "source": [
        "Train"
      ]
    },
    {
      "cell_type": "code",
      "metadata": {
        "id": "QUfL7MtTScXt"
      },
      "source": [
        "for f in train_files:\r\n",
        "  temp = pd.read_csv(f\"{path_train}{f}\", index_col=False, header=None)\r\n",
        "  temp.columns = header\r\n",
        "  temp.to_csv(f\"{path_train}{f}\", index=False)"
      ],
      "execution_count": null,
      "outputs": []
    },
    {
      "cell_type": "markdown",
      "metadata": {
        "id": "BK5J5F3SgUtV"
      },
      "source": [
        "Test"
      ]
    },
    {
      "cell_type": "code",
      "metadata": {
        "id": "y07c-JXggVXn"
      },
      "source": [
        "for f in test_files:\r\n",
        "  temp = pd.read_csv(f\"{path_test}{f}\", index_col=False, header=None)\r\n",
        "  temp.columns = header\r\n",
        "  temp.to_csv(f\"{path_test}{f}\", index=False)"
      ],
      "execution_count": null,
      "outputs": []
    },
    {
      "cell_type": "markdown",
      "metadata": {
        "id": "FlW_7jKbKC9N"
      },
      "source": [
        "### Combiner fichiers en 1 seul fichier"
      ]
    },
    {
      "cell_type": "markdown",
      "metadata": {
        "id": "A5QbK2MjgvSE"
      },
      "source": [
        "Train"
      ]
    },
    {
      "cell_type": "code",
      "metadata": {
        "colab": {
          "base_uri": "https://localhost:8080/"
        },
        "id": "XEzJKEh3KF5W",
        "outputId": "fb3ff31e-1706-4d8e-c849-4f75f7275309"
      },
      "source": [
        "all_train = pd.concat([pd.read_csv(f\"{path_train}{f}\") for f in train_files], sort=False)\r\n",
        "all_train.info"
      ],
      "execution_count": null,
      "outputs": [
        {
          "output_type": "execute_result",
          "data": {
            "text/plain": [
              "<bound method DataFrame.info of         Page_popularity  Page_checkins  ...  Base_DateTime_saturday  Target_variable\n",
              "0                634995              0  ...                       1                0\n",
              "1                634995              0  ...                       0                0\n",
              "2                634995              0  ...                       1                0\n",
              "3                634995              0  ...                       0                0\n",
              "4                634995              0  ...                       0                0\n",
              "...                 ...            ...  ...                     ...              ...\n",
              "199025          7170111             70  ...                       0              203\n",
              "199026          7170111             70  ...                       0               42\n",
              "199027          7170111             70  ...                       0               51\n",
              "199028          7170111             70  ...                       0               17\n",
              "199029          7170111             70  ...                       0               21\n",
              "\n",
              "[602813 rows x 54 columns]>"
            ]
          },
          "metadata": {
            "tags": []
          },
          "execution_count": 123
        }
      ]
    },
    {
      "cell_type": "code",
      "metadata": {
        "id": "oGIjPh6vKe21"
      },
      "source": [
        "all_train.to_csv(f\"{path}All_Training.csv\", sep=',', index=False)"
      ],
      "execution_count": null,
      "outputs": []
    },
    {
      "cell_type": "markdown",
      "metadata": {
        "id": "URIAa0t4gwdm"
      },
      "source": [
        "Test"
      ]
    },
    {
      "cell_type": "code",
      "metadata": {
        "colab": {
          "base_uri": "https://localhost:8080/"
        },
        "id": "b733Q1KNgyZF",
        "outputId": "0649125d-1cdb-4a9c-c4a2-f75dda778bf5"
      },
      "source": [
        "all_test = pd.concat([pd.read_csv(f\"{path_test}{f}\") for f in test_files], sort=False)\r\n",
        "all_test.info"
      ],
      "execution_count": null,
      "outputs": [
        {
          "output_type": "execute_result",
          "data": {
            "text/plain": [
              "<bound method DataFrame.info of     Page_popularity  Page_checkins  ...  Base_DateTime_saturday  Target_variable\n",
              "0           1340759          33935  ...                       0               35\n",
              "1            161455              0  ...                       1                2\n",
              "2             92385             88  ...                       1                0\n",
              "3            395272              0  ...                       0                0\n",
              "4           4349418              0  ...                       0                0\n",
              "..              ...            ...  ...                     ...              ...\n",
              "95           220578              0  ...                       1                0\n",
              "96           160261              0  ...                       0                1\n",
              "97          4253181             40  ...                       0                0\n",
              "98           952756              8  ...                       0                0\n",
              "99          4716837              0  ...                       0                5\n",
              "\n",
              "[1000 rows x 54 columns]>"
            ]
          },
          "metadata": {
            "tags": []
          },
          "execution_count": 62
        }
      ]
    },
    {
      "cell_type": "code",
      "metadata": {
        "id": "b52j07hDg5yH"
      },
      "source": [
        "all_test.to_csv(f\"{path_test}All_Testing.csv\", sep=',', index=False)"
      ],
      "execution_count": null,
      "outputs": []
    },
    {
      "cell_type": "markdown",
      "metadata": {
        "id": "99RSSLwOKwSN"
      },
      "source": [
        "# Exploration"
      ]
    },
    {
      "cell_type": "markdown",
      "metadata": {
        "id": "t4g5natAidEU"
      },
      "source": [
        "## Exploration des données"
      ]
    },
    {
      "cell_type": "code",
      "metadata": {
        "colab": {
          "base_uri": "https://localhost:8080/"
        },
        "id": "516MQ7OABq4S",
        "outputId": "a1aee285-3e4f-4d3f-e1da-ad0e1181f57f"
      },
      "source": [
        "import pandas as pd \r\n",
        "\r\n",
        "data_train = pd.read_csv(f\"{path}All_Training.csv\")\r\n",
        "data_train.info"
      ],
      "execution_count": null,
      "outputs": [
        {
          "output_type": "execute_result",
          "data": {
            "text/plain": [
              "<bound method DataFrame.info of         Page_popularity  Page_checkins  ...  Base_DateTime_saturday  Target_variable\n",
              "0                634995              0  ...                       1                0\n",
              "1                634995              0  ...                       0                0\n",
              "2                634995              0  ...                       1                0\n",
              "3                634995              0  ...                       0                0\n",
              "4                634995              0  ...                       0                0\n",
              "...                 ...            ...  ...                     ...              ...\n",
              "602808          7170111             70  ...                       0              203\n",
              "602809          7170111             70  ...                       0               42\n",
              "602810          7170111             70  ...                       0               51\n",
              "602811          7170111             70  ...                       0               17\n",
              "602812          7170111             70  ...                       0               21\n",
              "\n",
              "[602813 rows x 54 columns]>"
            ]
          },
          "metadata": {
            "tags": []
          },
          "execution_count": 3
        }
      ]
    },
    {
      "cell_type": "code",
      "metadata": {
        "colab": {
          "base_uri": "https://localhost:8080/",
          "height": 157
        },
        "id": "MZHYsNPHB1GG",
        "outputId": "ba0dee29-cd59-45f8-a550-387ef300ffda"
      },
      "source": [
        "data_train.head(3)"
      ],
      "execution_count": null,
      "outputs": [
        {
          "output_type": "execute_result",
          "data": {
            "text/html": [
              "<div>\n",
              "<style scoped>\n",
              "    .dataframe tbody tr th:only-of-type {\n",
              "        vertical-align: middle;\n",
              "    }\n",
              "\n",
              "    .dataframe tbody tr th {\n",
              "        vertical-align: top;\n",
              "    }\n",
              "\n",
              "    .dataframe thead th {\n",
              "        text-align: right;\n",
              "    }\n",
              "</style>\n",
              "<table border=\"1\" class=\"dataframe\">\n",
              "  <thead>\n",
              "    <tr style=\"text-align: right;\">\n",
              "      <th></th>\n",
              "      <th>Page_popularity</th>\n",
              "      <th>Page_checkins</th>\n",
              "      <th>Page_talking_about</th>\n",
              "      <th>Page_category</th>\n",
              "      <th>CC1_min</th>\n",
              "      <th>CC1_max</th>\n",
              "      <th>CC1_avg</th>\n",
              "      <th>CC1_median</th>\n",
              "      <th>CC1_std</th>\n",
              "      <th>CC2_min</th>\n",
              "      <th>CC2_max</th>\n",
              "      <th>CC2_avg</th>\n",
              "      <th>CC2_median</th>\n",
              "      <th>CC2_std</th>\n",
              "      <th>CC3_min</th>\n",
              "      <th>CC3_max</th>\n",
              "      <th>CC3_avg</th>\n",
              "      <th>CC3_median</th>\n",
              "      <th>CC3_std</th>\n",
              "      <th>CC4_min</th>\n",
              "      <th>CC4_max</th>\n",
              "      <th>CC4_avg</th>\n",
              "      <th>CC4_median</th>\n",
              "      <th>CC4_std</th>\n",
              "      <th>CC5_min</th>\n",
              "      <th>CC5_max</th>\n",
              "      <th>CC5_avg</th>\n",
              "      <th>CC5_median</th>\n",
              "      <th>CC5_std</th>\n",
              "      <th>CC1</th>\n",
              "      <th>CC2</th>\n",
              "      <th>CC3</th>\n",
              "      <th>CC4</th>\n",
              "      <th>CC5</th>\n",
              "      <th>Base_time</th>\n",
              "      <th>Post_lenght</th>\n",
              "      <th>Post_share_count</th>\n",
              "      <th>Post_promotion_status</th>\n",
              "      <th>H_local</th>\n",
              "      <th>Post_published_sunday</th>\n",
              "      <th>Post_published_monday</th>\n",
              "      <th>Post_published_tuesday</th>\n",
              "      <th>Post_published_wednesday</th>\n",
              "      <th>Post_published_thursday</th>\n",
              "      <th>Post_published_friday</th>\n",
              "      <th>Post_published_saturday</th>\n",
              "      <th>Base_DateTime_sunday</th>\n",
              "      <th>Base_DateTime_monday</th>\n",
              "      <th>Base_DateTime_tuesday</th>\n",
              "      <th>Base_DateTime_wednesday</th>\n",
              "      <th>Base_DateTime_thursday</th>\n",
              "      <th>Base_DateTime_friday</th>\n",
              "      <th>Base_DateTime_saturday</th>\n",
              "      <th>Target_variable</th>\n",
              "    </tr>\n",
              "  </thead>\n",
              "  <tbody>\n",
              "    <tr>\n",
              "      <th>0</th>\n",
              "      <td>634995</td>\n",
              "      <td>0</td>\n",
              "      <td>463</td>\n",
              "      <td>1</td>\n",
              "      <td>0.0</td>\n",
              "      <td>806.0</td>\n",
              "      <td>11.291045</td>\n",
              "      <td>1.0</td>\n",
              "      <td>70.495138</td>\n",
              "      <td>0.0</td>\n",
              "      <td>806.0</td>\n",
              "      <td>7.574627</td>\n",
              "      <td>0.0</td>\n",
              "      <td>69.435826</td>\n",
              "      <td>0.0</td>\n",
              "      <td>76.0</td>\n",
              "      <td>2.604478</td>\n",
              "      <td>0.0</td>\n",
              "      <td>8.505502</td>\n",
              "      <td>0.0</td>\n",
              "      <td>806.0</td>\n",
              "      <td>10.649254</td>\n",
              "      <td>1.0</td>\n",
              "      <td>70.254788</td>\n",
              "      <td>-69.0</td>\n",
              "      <td>806.0</td>\n",
              "      <td>4.970149</td>\n",
              "      <td>0.0</td>\n",
              "      <td>69.85058</td>\n",
              "      <td>0</td>\n",
              "      <td>0</td>\n",
              "      <td>0</td>\n",
              "      <td>0</td>\n",
              "      <td>0</td>\n",
              "      <td>65</td>\n",
              "      <td>166</td>\n",
              "      <td>2</td>\n",
              "      <td>0</td>\n",
              "      <td>24</td>\n",
              "      <td>0</td>\n",
              "      <td>0</td>\n",
              "      <td>0</td>\n",
              "      <td>1</td>\n",
              "      <td>0</td>\n",
              "      <td>0</td>\n",
              "      <td>0</td>\n",
              "      <td>0</td>\n",
              "      <td>0</td>\n",
              "      <td>0</td>\n",
              "      <td>0</td>\n",
              "      <td>0</td>\n",
              "      <td>0</td>\n",
              "      <td>1</td>\n",
              "      <td>0</td>\n",
              "    </tr>\n",
              "    <tr>\n",
              "      <th>1</th>\n",
              "      <td>634995</td>\n",
              "      <td>0</td>\n",
              "      <td>463</td>\n",
              "      <td>1</td>\n",
              "      <td>0.0</td>\n",
              "      <td>806.0</td>\n",
              "      <td>11.291045</td>\n",
              "      <td>1.0</td>\n",
              "      <td>70.495138</td>\n",
              "      <td>0.0</td>\n",
              "      <td>806.0</td>\n",
              "      <td>7.574627</td>\n",
              "      <td>0.0</td>\n",
              "      <td>69.435826</td>\n",
              "      <td>0.0</td>\n",
              "      <td>76.0</td>\n",
              "      <td>2.604478</td>\n",
              "      <td>0.0</td>\n",
              "      <td>8.505502</td>\n",
              "      <td>0.0</td>\n",
              "      <td>806.0</td>\n",
              "      <td>10.649254</td>\n",
              "      <td>1.0</td>\n",
              "      <td>70.254788</td>\n",
              "      <td>-69.0</td>\n",
              "      <td>806.0</td>\n",
              "      <td>4.970149</td>\n",
              "      <td>0.0</td>\n",
              "      <td>69.85058</td>\n",
              "      <td>0</td>\n",
              "      <td>0</td>\n",
              "      <td>0</td>\n",
              "      <td>0</td>\n",
              "      <td>0</td>\n",
              "      <td>10</td>\n",
              "      <td>132</td>\n",
              "      <td>1</td>\n",
              "      <td>0</td>\n",
              "      <td>24</td>\n",
              "      <td>0</td>\n",
              "      <td>0</td>\n",
              "      <td>0</td>\n",
              "      <td>0</td>\n",
              "      <td>1</td>\n",
              "      <td>0</td>\n",
              "      <td>0</td>\n",
              "      <td>0</td>\n",
              "      <td>0</td>\n",
              "      <td>0</td>\n",
              "      <td>0</td>\n",
              "      <td>0</td>\n",
              "      <td>1</td>\n",
              "      <td>0</td>\n",
              "      <td>0</td>\n",
              "    </tr>\n",
              "    <tr>\n",
              "      <th>2</th>\n",
              "      <td>634995</td>\n",
              "      <td>0</td>\n",
              "      <td>463</td>\n",
              "      <td>1</td>\n",
              "      <td>0.0</td>\n",
              "      <td>806.0</td>\n",
              "      <td>11.291045</td>\n",
              "      <td>1.0</td>\n",
              "      <td>70.495138</td>\n",
              "      <td>0.0</td>\n",
              "      <td>806.0</td>\n",
              "      <td>7.574627</td>\n",
              "      <td>0.0</td>\n",
              "      <td>69.435826</td>\n",
              "      <td>0.0</td>\n",
              "      <td>76.0</td>\n",
              "      <td>2.604478</td>\n",
              "      <td>0.0</td>\n",
              "      <td>8.505502</td>\n",
              "      <td>0.0</td>\n",
              "      <td>806.0</td>\n",
              "      <td>10.649254</td>\n",
              "      <td>1.0</td>\n",
              "      <td>70.254788</td>\n",
              "      <td>-69.0</td>\n",
              "      <td>806.0</td>\n",
              "      <td>4.970149</td>\n",
              "      <td>0.0</td>\n",
              "      <td>69.85058</td>\n",
              "      <td>0</td>\n",
              "      <td>0</td>\n",
              "      <td>0</td>\n",
              "      <td>0</td>\n",
              "      <td>0</td>\n",
              "      <td>14</td>\n",
              "      <td>133</td>\n",
              "      <td>2</td>\n",
              "      <td>0</td>\n",
              "      <td>24</td>\n",
              "      <td>0</td>\n",
              "      <td>0</td>\n",
              "      <td>0</td>\n",
              "      <td>0</td>\n",
              "      <td>0</td>\n",
              "      <td>1</td>\n",
              "      <td>0</td>\n",
              "      <td>0</td>\n",
              "      <td>0</td>\n",
              "      <td>0</td>\n",
              "      <td>0</td>\n",
              "      <td>0</td>\n",
              "      <td>0</td>\n",
              "      <td>1</td>\n",
              "      <td>0</td>\n",
              "    </tr>\n",
              "  </tbody>\n",
              "</table>\n",
              "</div>"
            ],
            "text/plain": [
              "   Page_popularity  Page_checkins  ...  Base_DateTime_saturday  Target_variable\n",
              "0           634995              0  ...                       1                0\n",
              "1           634995              0  ...                       0                0\n",
              "2           634995              0  ...                       1                0\n",
              "\n",
              "[3 rows x 54 columns]"
            ]
          },
          "metadata": {
            "tags": []
          },
          "execution_count": 126
        }
      ]
    },
    {
      "cell_type": "code",
      "metadata": {
        "colab": {
          "base_uri": "https://localhost:8080/"
        },
        "id": "1qCaK1AVBukj",
        "outputId": "4a31ab79-8d19-4d06-a42b-0ccba922fb94"
      },
      "source": [
        "dataTypeSeries = data_train.dtypes\r\n",
        "print(dataTypeSeries)"
      ],
      "execution_count": null,
      "outputs": [
        {
          "output_type": "stream",
          "text": [
            "Page_popularity               int64\n",
            "Page_checkins                 int64\n",
            "Page_talking_about            int64\n",
            "Page_category                 int64\n",
            "CC1_min                     float64\n",
            "CC1_max                     float64\n",
            "CC1_avg                     float64\n",
            "CC1_median                  float64\n",
            "CC1_std                     float64\n",
            "CC2_min                     float64\n",
            "CC2_max                     float64\n",
            "CC2_avg                     float64\n",
            "CC2_median                  float64\n",
            "CC2_std                     float64\n",
            "CC3_min                     float64\n",
            "CC3_max                     float64\n",
            "CC3_avg                     float64\n",
            "CC3_median                  float64\n",
            "CC3_std                     float64\n",
            "CC4_min                     float64\n",
            "CC4_max                     float64\n",
            "CC4_avg                     float64\n",
            "CC4_median                  float64\n",
            "CC4_std                     float64\n",
            "CC5_min                     float64\n",
            "CC5_max                     float64\n",
            "CC5_avg                     float64\n",
            "CC5_median                  float64\n",
            "CC5_std                     float64\n",
            "CC1                           int64\n",
            "CC2                           int64\n",
            "CC3                           int64\n",
            "CC4                           int64\n",
            "CC5                           int64\n",
            "Base_time                     int64\n",
            "Post_lenght                   int64\n",
            "Post_share_count              int64\n",
            "Post_promotion_status         int64\n",
            "H_local                       int64\n",
            "Post_published_sunday         int64\n",
            "Post_published_monday         int64\n",
            "Post_published_tuesday        int64\n",
            "Post_published_wednesday      int64\n",
            "Post_published_thursday       int64\n",
            "Post_published_friday         int64\n",
            "Post_published_saturday       int64\n",
            "Base_DateTime_sunday          int64\n",
            "Base_DateTime_monday          int64\n",
            "Base_DateTime_tuesday         int64\n",
            "Base_DateTime_wednesday       int64\n",
            "Base_DateTime_thursday        int64\n",
            "Base_DateTime_friday          int64\n",
            "Base_DateTime_saturday        int64\n",
            "Target_variable               int64\n",
            "dtype: object\n"
          ],
          "name": "stdout"
        }
      ]
    },
    {
      "cell_type": "code",
      "metadata": {
        "colab": {
          "base_uri": "https://localhost:8080/"
        },
        "id": "14nZJDAdXKtl",
        "outputId": "f7251359-7632-48cc-d1d3-8a1776205e9b"
      },
      "source": [
        "print(f\"Nombre de lignes : {len(data_train)}\")"
      ],
      "execution_count": null,
      "outputs": [
        {
          "output_type": "stream",
          "text": [
            "Nombre de lignes : 602813\n"
          ],
          "name": "stdout"
        }
      ]
    },
    {
      "cell_type": "code",
      "metadata": {
        "colab": {
          "base_uri": "https://localhost:8080/"
        },
        "id": "djf6tEWjbu84",
        "outputId": "4b51918d-fcf6-4ad1-e570-2175d410ad28"
      },
      "source": [
        "print(f\"Nombre duplicats : {len(data_train) - len(data_train.drop_duplicates())}\")"
      ],
      "execution_count": null,
      "outputs": [
        {
          "output_type": "stream",
          "text": [
            "Nombre duplicats : 408\n"
          ],
          "name": "stdout"
        }
      ]
    },
    {
      "cell_type": "code",
      "metadata": {
        "colab": {
          "base_uri": "https://localhost:8080/"
        },
        "id": "Y6iDfpSzGBWV",
        "outputId": "f581a438-2bd4-4d7a-a62c-2361b965a230"
      },
      "source": [
        "print(f\"Nombre de pages différentes : {len(data_train.Page_popularity.unique())}\")"
      ],
      "execution_count": null,
      "outputs": [
        {
          "output_type": "stream",
          "text": [
            "Nombre de pages différentes : 639\n"
          ],
          "name": "stdout"
        }
      ]
    },
    {
      "cell_type": "code",
      "metadata": {
        "colab": {
          "base_uri": "https://localhost:8080/"
        },
        "id": "YFDceqoKeG4L",
        "outputId": "400716b1-c38d-45d1-f721-785c6450dfb8"
      },
      "source": [
        "constant_cols = data_train.loc[:, data_train.apply(pd.Series.nunique) == 1]\r\n",
        "print(f\"Colonnes constantes (et donc inutiles) : {constant_cols.columns}\")"
      ],
      "execution_count": null,
      "outputs": [
        {
          "output_type": "stream",
          "text": [
            "Colonnes constantes (et donc inutiles) : Index(['Post_promotion_status'], dtype='object')\n"
          ],
          "name": "stdout"
        }
      ]
    },
    {
      "cell_type": "code",
      "metadata": {
        "colab": {
          "base_uri": "https://localhost:8080/"
        },
        "id": "2lyqT1RafACh",
        "outputId": "3ff1d252-2acd-40cf-babe-5c91e8c78927"
      },
      "source": [
        "NaN_count = data_train.isnull().sum().sort_values(ascending=False)\r\n",
        "\r\n",
        "count = 0\r\n",
        "for n in NaN_count:\r\n",
        "  if n > 0:\r\n",
        "    count += 1\r\n",
        "\r\n",
        "if count == 0:\r\n",
        "  print(\"Aucune colonne incomplète\")\r\n",
        "else:\r\n",
        "  print(f\"{count} colonne(s) incomplète(s)\")"
      ],
      "execution_count": null,
      "outputs": [
        {
          "output_type": "stream",
          "text": [
            "Aucune colonne incomplète\n"
          ],
          "name": "stdout"
        }
      ]
    },
    {
      "cell_type": "markdown",
      "metadata": {
        "id": "oAxWHiMBiJPF"
      },
      "source": [
        "### Répartition des catégories de pages"
      ]
    },
    {
      "cell_type": "code",
      "metadata": {
        "colab": {
          "base_uri": "https://localhost:8080/",
          "height": 281
        },
        "id": "-pjWYGz6YcIi",
        "outputId": "8dd7a499-4f83-4bc6-9dde-1ae726d4bda6"
      },
      "source": [
        "data_train.Page_category.hist(bins=81)"
      ],
      "execution_count": null,
      "outputs": [
        {
          "output_type": "execute_result",
          "data": {
            "text/plain": [
              "<matplotlib.axes._subplots.AxesSubplot at 0x7f34d6450dd8>"
            ]
          },
          "metadata": {
            "tags": []
          },
          "execution_count": 135
        },
        {
          "output_type": "display_data",
          "data": {
            "image/png": "[encoded data removed]",
            "text/plain": [
              "<Figure size 432x288 with 1 Axes>"
            ]
          },
          "metadata": {
            "tags": [],
            "needs_background": "light"
          }
        }
      ]
    },
    {
      "cell_type": "code",
      "metadata": {
        "colab": {
          "base_uri": "https://localhost:8080/"
        },
        "id": "U2Pq5V9SZaaH",
        "outputId": "87527fcd-7d25-4eb5-a7a6-434f7c20a7a8"
      },
      "source": [
        "data_train.Page_category.value_counts()\r\n",
        "\r\n",
        "# ECRIRE ICI LES CATEGORIES LES PLUS/MOINS REPRESENTEES"
      ],
      "execution_count": null,
      "outputs": [
        {
          "output_type": "execute_result",
          "data": {
            "text/plain": [
              "9     110313\n",
              "24     66473\n",
              "18     63314\n",
              "36     35163\n",
              "16     27805\n",
              "       ...  \n",
              "62       232\n",
              "63        58\n",
              "58        29\n",
              "83        15\n",
              "93        15\n",
              "Name: Page_category, Length: 81, dtype: int64"
            ]
          },
          "metadata": {
            "tags": []
          },
          "execution_count": 136
        }
      ]
    },
    {
      "cell_type": "markdown",
      "metadata": {
        "id": "0VKYCe6JipyK"
      },
      "source": [
        "## Dataset cleaning"
      ]
    },
    {
      "cell_type": "code",
      "metadata": {
        "id": "oLkgdEGdjZWP"
      },
      "source": [
        "# drop duplicates\r\n",
        "clean_train = data_train.drop_duplicates()"
      ],
      "execution_count": null,
      "outputs": []
    },
    {
      "cell_type": "code",
      "metadata": {
        "id": "cCNxQDi4ixTk"
      },
      "source": [
        "# ignore constant column\r\n",
        "clean_train = clean_train.loc[:, clean_train.columns != 'Post_promotion_status']"
      ],
      "execution_count": null,
      "outputs": []
    },
    {
      "cell_type": "markdown",
      "metadata": {
        "id": "5Xd_Pgh-Ls1U"
      },
      "source": [
        "## Matrices de corrélation"
      ]
    },
    {
      "cell_type": "code",
      "metadata": {
        "id": "pLG4zd9XMPFB"
      },
      "source": [
        "import seaborn as sn\r\n",
        "import matplotlib.pyplot as plt"
      ],
      "execution_count": null,
      "outputs": []
    },
    {
      "cell_type": "markdown",
      "metadata": {
        "id": "plYIzKC1lYOy"
      },
      "source": [
        "### All columns"
      ]
    },
    {
      "cell_type": "code",
      "metadata": {
        "colab": {
          "base_uri": "https://localhost:8080/"
        },
        "id": "xxjOAFQUd7_E",
        "outputId": "aca1ec11-3fd6-43cf-d4f8-7ca8871c4a10"
      },
      "source": [
        "correlation_all = clean_train.corr()\r\n",
        "correlation_all['Target_variable'].sort_values(ascending=False)"
      ],
      "execution_count": null,
      "outputs": [
        {
          "output_type": "execute_result",
          "data": {
            "text/plain": [
              "Target_variable             1.000000\n",
              "CC2                         0.537412\n",
              "CC5                         0.372866\n",
              "CC2_avg                     0.366980\n",
              "CC1_avg                     0.357120\n",
              "CC4_avg                     0.354578\n",
              "CC1_median                  0.350413\n",
              "CC4_median                  0.349292\n",
              "CC3_avg                     0.346645\n",
              "CC2_median                  0.343327\n",
              "CC4                         0.339739\n",
              "CC5_std                     0.333091\n",
              "CC1                         0.324205\n",
              "CC3_std                     0.322864\n",
              "CC2_std                     0.322646\n",
              "CC1_std                     0.313035\n",
              "CC4_std                     0.306830\n",
              "CC3_median                  0.285773\n",
              "CC1_max                     0.237275\n",
              "CC4_max                     0.231491\n",
              "CC2_max                     0.224746\n",
              "CC5_max                     0.224278\n",
              "CC3_max                     0.224068\n",
              "Page_talking_about          0.194806\n",
              "CC5_avg                     0.193337\n",
              "CC4_min                     0.142408\n",
              "CC1_min                     0.140636\n",
              "Post_share_count            0.130835\n",
              "CC2_min                     0.111327\n",
              "CC3                         0.072179\n",
              "Page_popularity             0.068188\n",
              "Page_checkins               0.033158\n",
              "Base_DateTime_wednesday     0.018866\n",
              "Post_published_wednesday    0.018552\n",
              "H_local                     0.012221\n",
              "Post_published_tuesday      0.006522\n",
              "Base_DateTime_tuesday       0.005862\n",
              "CC3_min                     0.004122\n",
              "Base_DateTime_thursday      0.001835\n",
              "Post_published_sunday       0.001409\n",
              "Post_lenght                -0.001130\n",
              "Post_published_monday      -0.002342\n",
              "Base_DateTime_monday       -0.003732\n",
              "Base_DateTime_friday       -0.006623\n",
              "Post_published_thursday    -0.007058\n",
              "Base_DateTime_sunday       -0.007998\n",
              "Post_published_saturday    -0.008265\n",
              "Base_DateTime_saturday     -0.008539\n",
              "Post_published_friday      -0.009625\n",
              "CC5_median                 -0.048356\n",
              "Page_category              -0.069643\n",
              "CC5_min                    -0.209917\n",
              "Base_time                  -0.223710\n",
              "Name: Target_variable, dtype: float64"
            ]
          },
          "metadata": {
            "tags": []
          },
          "execution_count": 159
        }
      ]
    },
    {
      "cell_type": "markdown",
      "metadata": {
        "id": "ftOe5usZlkqz"
      },
      "source": [
        "### Selected columns (no additionals stats, no weekday and no DateTime"
      ]
    },
    {
      "cell_type": "code",
      "metadata": {
        "id": "4shYr8racOm1"
      },
      "source": [
        "selected_columns = ['Page_popularity', 'Page_checkins', 'Page_talking_about',\r\n",
        "       'Page_category', 'CC1', 'CC2', 'CC3', 'CC4', 'CC5', 'Base_time', \r\n",
        "       'Post_lenght', 'Post_share_count', 'H_local', 'Target_variable']"
      ],
      "execution_count": null,
      "outputs": []
    },
    {
      "cell_type": "code",
      "metadata": {
        "colab": {
          "base_uri": "https://localhost:8080/"
        },
        "id": "zjFL3BbNLukU",
        "outputId": "6cc1a841-1e75-4124-d366-fe836980c6a9"
      },
      "source": [
        "correlation = clean_train[selected_columns].corr()\r\n",
        "correlation['Target_variable'].sort_values(ascending=False)"
      ],
      "execution_count": null,
      "outputs": [
        {
          "output_type": "execute_result",
          "data": {
            "text/plain": [
              "Target_variable       1.000000\n",
              "CC2                   0.537412\n",
              "CC5                   0.372866\n",
              "CC4                   0.339739\n",
              "CC1                   0.324205\n",
              "Page_talking_about    0.194806\n",
              "Post_share_count      0.130835\n",
              "CC3                   0.072179\n",
              "Page_popularity       0.068188\n",
              "Page_checkins         0.033158\n",
              "H_local               0.012221\n",
              "Post_lenght          -0.001130\n",
              "Page_category        -0.069643\n",
              "Base_time            -0.223710\n",
              "Name: Target_variable, dtype: float64"
            ]
          },
          "metadata": {
            "tags": []
          },
          "execution_count": 168
        }
      ]
    },
    {
      "cell_type": "code",
      "metadata": {
        "colab": {
          "base_uri": "https://localhost:8080/",
          "height": 356
        },
        "id": "WeIZP1rRMSbU",
        "outputId": "5194d152-f1c4-4577-c7f3-e9ccff9c3599"
      },
      "source": [
        "sn.heatmap(correlation, annot=True)\r\n",
        "plt.show()"
      ],
      "execution_count": null,
      "outputs": [
        {
          "output_type": "display_data",
          "data": {
            "image/png": "[encoded data removed]",
            "text/plain": [
              "<Figure size 432x288 with 2 Axes>"
            ]
          },
          "metadata": {
            "tags": [],
            "needs_background": "light"
          }
        }
      ]
    },
    {
      "cell_type": "markdown",
      "metadata": {
        "id": "S6ISgR4_lxLT"
      },
      "source": [
        "### Week days only"
      ]
    },
    {
      "cell_type": "code",
      "metadata": {
        "id": "ar-YjKInc_Xq"
      },
      "source": [
        "week_days = ['Post_published_sunday',\r\n",
        "       'Post_published_monday', 'Post_published_tuesday',\r\n",
        "       'Post_published_wednesday', 'Post_published_thursday',\r\n",
        "       'Post_published_friday', 'Post_published_saturday', 'Target_variable']"
      ],
      "execution_count": null,
      "outputs": []
    },
    {
      "cell_type": "code",
      "metadata": {
        "colab": {
          "base_uri": "https://localhost:8080/"
        },
        "id": "Qz2D_UQ0dSWc",
        "outputId": "53fe14d0-c7be-488f-dc45-c56166f94ca1"
      },
      "source": [
        "correlation_days = clean_train[week_days].corr()\r\n",
        "correlation_days['Target_variable'].sort_values(ascending=False)"
      ],
      "execution_count": null,
      "outputs": [
        {
          "output_type": "execute_result",
          "data": {
            "text/plain": [
              "Target_variable             1.000000\n",
              "Post_published_wednesday    0.018552\n",
              "Post_published_tuesday      0.006522\n",
              "Post_published_sunday       0.001409\n",
              "Post_published_monday      -0.002342\n",
              "Post_published_thursday    -0.007058\n",
              "Post_published_saturday    -0.008265\n",
              "Post_published_friday      -0.009625\n",
              "Name: Target_variable, dtype: float64"
            ]
          },
          "metadata": {
            "tags": []
          },
          "execution_count": 171
        }
      ]
    },
    {
      "cell_type": "code",
      "metadata": {
        "colab": {
          "base_uri": "https://localhost:8080/",
          "height": 396
        },
        "id": "AtzO895OdbHl",
        "outputId": "eb211823-e4d4-4295-9a24-362d86879e1b"
      },
      "source": [
        "sn.heatmap(correlation_days, annot=True)\r\n",
        "plt.show()"
      ],
      "execution_count": null,
      "outputs": [
        {
          "output_type": "display_data",
          "data": {
            "image/png": "[encoded data removed]",
            "text/plain": [
              "<Figure size 432x288 with 2 Axes>"
            ]
          },
          "metadata": {
            "tags": [],
            "needs_background": "light"
          }
        }
      ]
    },
    {
      "cell_type": "markdown",
      "metadata": {
        "id": "3xjxcO4dl0Um"
      },
      "source": [
        "### Date time only"
      ]
    },
    {
      "cell_type": "code",
      "metadata": {
        "id": "x8uJ6XBAdjiH"
      },
      "source": [
        "datetime = ['Base_DateTime_sunday', 'Base_DateTime_monday', 'Base_DateTime_tuesday',\r\n",
        "       'Base_DateTime_wednesday', 'Base_DateTime_thursday',\r\n",
        "       'Base_DateTime_friday', 'Base_DateTime_saturday', 'Target_variable']"
      ],
      "execution_count": null,
      "outputs": []
    },
    {
      "cell_type": "code",
      "metadata": {
        "colab": {
          "base_uri": "https://localhost:8080/"
        },
        "id": "I5zjpglYdsqn",
        "outputId": "0db9807d-21e2-4eae-bd43-e3f6dcff363e"
      },
      "source": [
        "correlation_datetime = clean_train[datetime].corr()\r\n",
        "correlation_datetime['Target_variable'].sort_values(ascending=False)"
      ],
      "execution_count": null,
      "outputs": [
        {
          "output_type": "execute_result",
          "data": {
            "text/plain": [
              "Target_variable            1.000000\n",
              "Base_DateTime_wednesday    0.018866\n",
              "Base_DateTime_tuesday      0.005862\n",
              "Base_DateTime_thursday     0.001835\n",
              "Base_DateTime_monday      -0.003732\n",
              "Base_DateTime_friday      -0.006623\n",
              "Base_DateTime_sunday      -0.007998\n",
              "Base_DateTime_saturday    -0.008539\n",
              "Name: Target_variable, dtype: float64"
            ]
          },
          "metadata": {
            "tags": []
          },
          "execution_count": 174
        }
      ]
    },
    {
      "cell_type": "code",
      "metadata": {
        "colab": {
          "base_uri": "https://localhost:8080/",
          "height": 399
        },
        "id": "RrGLasXyd0Mk",
        "outputId": "269f3c01-36d0-473c-a8aa-9bfb7ed94b5b"
      },
      "source": [
        "sn.heatmap(correlation_datetime, annot=True)\r\n",
        "plt.show()"
      ],
      "execution_count": null,
      "outputs": [
        {
          "output_type": "display_data",
          "data": {
            "image/png": "[encoded data removed]",
            "text/plain": [
              "<Figure size 432x288 with 2 Axes>"
            ]
          },
          "metadata": {
            "tags": [],
            "needs_background": "light"
          }
        }
      ]
    },
    {
      "cell_type": "markdown",
      "metadata": {
        "id": "UPMEgNKxoogW"
      },
      "source": [
        "# Feature engineering"
      ]
    },
    {
      "cell_type": "markdown",
      "metadata": {
        "id": "ZB_s6Jpjo53g"
      },
      "source": [
        "### 7 week_days in 1 column"
      ]
    },
    {
      "cell_type": "code",
      "metadata": {
        "colab": {
          "base_uri": "https://localhost:8080/"
        },
        "id": "MDqlyBrMsFcG",
        "outputId": "feb6bdaf-a45c-408c-c276-5b1e3f23c831"
      },
      "source": [
        "len(clean_train)"
      ],
      "execution_count": null,
      "outputs": [
        {
          "output_type": "execute_result",
          "data": {
            "text/plain": [
              "602405"
            ]
          },
          "metadata": {
            "tags": []
          },
          "execution_count": 37
        }
      ]
    },
    {
      "cell_type": "code",
      "metadata": {
        "colab": {
          "base_uri": "https://localhost:8080/"
        },
        "id": "gKYf-Tuforuy",
        "outputId": "c68de9aa-b573-4bac-9290-8acee25405ac"
      },
      "source": [
        "week_day_num = []\r\n",
        "\r\n",
        "for index, row in clean_train.iterrows():\r\n",
        "  done = False\r\n",
        "  while done is False:\r\n",
        "\r\n",
        "    if row[\"Post_published_monday\"] == 1:\r\n",
        "      week_day_num.append(1)\r\n",
        "      done = True\r\n",
        "\r\n",
        "    if row[\"Post_published_tuesday\"] == 1:\r\n",
        "      week_day_num.append(2)\r\n",
        "      done = True \r\n",
        "\r\n",
        "    if row[\"Post_published_wednesday\"] == 1:\r\n",
        "      week_day_num.append(3)\r\n",
        "      done = True \r\n",
        "\r\n",
        "    if row[\"Post_published_thursday\"] == 1:\r\n",
        "      week_day_num.append(4)\r\n",
        "      done = True\r\n",
        "\r\n",
        "    if row[\"Post_published_friday\"] == 1:\r\n",
        "      week_day_num.append(5)\r\n",
        "      done = True\r\n",
        "\r\n",
        "    if row[\"Post_published_saturday\"] == 1:\r\n",
        "      week_day_num.append(6)\r\n",
        "      done = True\r\n",
        "\r\n",
        "    if row[\"Post_published_sunday\"] == 1:\r\n",
        "      week_day_num.append(7)\r\n",
        "      done = True\r\n",
        "    \r\n",
        "    done = True\r\n",
        "\r\n",
        "print(len(week_day_num))"
      ],
      "execution_count": null,
      "outputs": [
        {
          "output_type": "stream",
          "text": [
            "602405\n"
          ],
          "name": "stdout"
        }
      ]
    },
    {
      "cell_type": "code",
      "metadata": {
        "colab": {
          "base_uri": "https://localhost:8080/"
        },
        "id": "YKISBiTExu2J",
        "outputId": "e90f2982-acc4-4560-d24b-9f050084bb07"
      },
      "source": [
        "week_day_num[1:6]"
      ],
      "execution_count": null,
      "outputs": [
        {
          "output_type": "execute_result",
          "data": {
            "text/plain": [
              "[4, 5, 5, 1, 2]"
            ]
          },
          "metadata": {
            "tags": []
          },
          "execution_count": 39
        }
      ]
    },
    {
      "cell_type": "code",
      "metadata": {
        "colab": {
          "base_uri": "https://localhost:8080/",
          "height": 157
        },
        "id": "Dw1JjT5Wx1m_",
        "outputId": "cbc22ce0-a08e-4393-961a-2b2b52965021"
      },
      "source": [
        "clean_train[\"Post_published_day_num\"] = week_day_num\r\n",
        "clean_train.head(3)"
      ],
      "execution_count": null,
      "outputs": [
        {
          "output_type": "execute_result",
          "data": {
            "text/html": [
              "<div>\n",
              "<style scoped>\n",
              "    .dataframe tbody tr th:only-of-type {\n",
              "        vertical-align: middle;\n",
              "    }\n",
              "\n",
              "    .dataframe tbody tr th {\n",
              "        vertical-align: top;\n",
              "    }\n",
              "\n",
              "    .dataframe thead th {\n",
              "        text-align: right;\n",
              "    }\n",
              "</style>\n",
              "<table border=\"1\" class=\"dataframe\">\n",
              "  <thead>\n",
              "    <tr style=\"text-align: right;\">\n",
              "      <th></th>\n",
              "      <th>Page_popularity</th>\n",
              "      <th>Page_checkins</th>\n",
              "      <th>Page_talking_about</th>\n",
              "      <th>Page_category</th>\n",
              "      <th>CC1_min</th>\n",
              "      <th>CC1_max</th>\n",
              "      <th>CC1_avg</th>\n",
              "      <th>CC1_median</th>\n",
              "      <th>CC1_std</th>\n",
              "      <th>CC2_min</th>\n",
              "      <th>CC2_max</th>\n",
              "      <th>CC2_avg</th>\n",
              "      <th>CC2_median</th>\n",
              "      <th>CC2_std</th>\n",
              "      <th>CC3_min</th>\n",
              "      <th>CC3_max</th>\n",
              "      <th>CC3_avg</th>\n",
              "      <th>CC3_median</th>\n",
              "      <th>CC3_std</th>\n",
              "      <th>CC4_min</th>\n",
              "      <th>CC4_max</th>\n",
              "      <th>CC4_avg</th>\n",
              "      <th>CC4_median</th>\n",
              "      <th>CC4_std</th>\n",
              "      <th>CC5_min</th>\n",
              "      <th>CC5_max</th>\n",
              "      <th>CC5_avg</th>\n",
              "      <th>CC5_median</th>\n",
              "      <th>CC5_std</th>\n",
              "      <th>CC1</th>\n",
              "      <th>CC2</th>\n",
              "      <th>CC3</th>\n",
              "      <th>CC4</th>\n",
              "      <th>CC5</th>\n",
              "      <th>Base_time</th>\n",
              "      <th>Post_lenght</th>\n",
              "      <th>Post_share_count</th>\n",
              "      <th>H_local</th>\n",
              "      <th>Post_published_sunday</th>\n",
              "      <th>Post_published_monday</th>\n",
              "      <th>Post_published_tuesday</th>\n",
              "      <th>Post_published_wednesday</th>\n",
              "      <th>Post_published_thursday</th>\n",
              "      <th>Post_published_friday</th>\n",
              "      <th>Post_published_saturday</th>\n",
              "      <th>Base_DateTime_sunday</th>\n",
              "      <th>Base_DateTime_monday</th>\n",
              "      <th>Base_DateTime_tuesday</th>\n",
              "      <th>Base_DateTime_wednesday</th>\n",
              "      <th>Base_DateTime_thursday</th>\n",
              "      <th>Base_DateTime_friday</th>\n",
              "      <th>Base_DateTime_saturday</th>\n",
              "      <th>Target_variable</th>\n",
              "      <th>Base_DateTime_day_num</th>\n",
              "      <th>Post_published_day_num</th>\n",
              "    </tr>\n",
              "  </thead>\n",
              "  <tbody>\n",
              "    <tr>\n",
              "      <th>0</th>\n",
              "      <td>634995</td>\n",
              "      <td>0</td>\n",
              "      <td>463</td>\n",
              "      <td>1</td>\n",
              "      <td>0.0</td>\n",
              "      <td>806.0</td>\n",
              "      <td>11.291045</td>\n",
              "      <td>1.0</td>\n",
              "      <td>70.495138</td>\n",
              "      <td>0.0</td>\n",
              "      <td>806.0</td>\n",
              "      <td>7.574627</td>\n",
              "      <td>0.0</td>\n",
              "      <td>69.435826</td>\n",
              "      <td>0.0</td>\n",
              "      <td>76.0</td>\n",
              "      <td>2.604478</td>\n",
              "      <td>0.0</td>\n",
              "      <td>8.505502</td>\n",
              "      <td>0.0</td>\n",
              "      <td>806.0</td>\n",
              "      <td>10.649254</td>\n",
              "      <td>1.0</td>\n",
              "      <td>70.254788</td>\n",
              "      <td>-69.0</td>\n",
              "      <td>806.0</td>\n",
              "      <td>4.970149</td>\n",
              "      <td>0.0</td>\n",
              "      <td>69.85058</td>\n",
              "      <td>0</td>\n",
              "      <td>0</td>\n",
              "      <td>0</td>\n",
              "      <td>0</td>\n",
              "      <td>0</td>\n",
              "      <td>65</td>\n",
              "      <td>166</td>\n",
              "      <td>2</td>\n",
              "      <td>24</td>\n",
              "      <td>0</td>\n",
              "      <td>0</td>\n",
              "      <td>0</td>\n",
              "      <td>1</td>\n",
              "      <td>0</td>\n",
              "      <td>0</td>\n",
              "      <td>0</td>\n",
              "      <td>0</td>\n",
              "      <td>0</td>\n",
              "      <td>0</td>\n",
              "      <td>0</td>\n",
              "      <td>0</td>\n",
              "      <td>0</td>\n",
              "      <td>1</td>\n",
              "      <td>0</td>\n",
              "      <td>6</td>\n",
              "      <td>3</td>\n",
              "    </tr>\n",
              "    <tr>\n",
              "      <th>1</th>\n",
              "      <td>634995</td>\n",
              "      <td>0</td>\n",
              "      <td>463</td>\n",
              "      <td>1</td>\n",
              "      <td>0.0</td>\n",
              "      <td>806.0</td>\n",
              "      <td>11.291045</td>\n",
              "      <td>1.0</td>\n",
              "      <td>70.495138</td>\n",
              "      <td>0.0</td>\n",
              "      <td>806.0</td>\n",
              "      <td>7.574627</td>\n",
              "      <td>0.0</td>\n",
              "      <td>69.435826</td>\n",
              "      <td>0.0</td>\n",
              "      <td>76.0</td>\n",
              "      <td>2.604478</td>\n",
              "      <td>0.0</td>\n",
              "      <td>8.505502</td>\n",
              "      <td>0.0</td>\n",
              "      <td>806.0</td>\n",
              "      <td>10.649254</td>\n",
              "      <td>1.0</td>\n",
              "      <td>70.254788</td>\n",
              "      <td>-69.0</td>\n",
              "      <td>806.0</td>\n",
              "      <td>4.970149</td>\n",
              "      <td>0.0</td>\n",
              "      <td>69.85058</td>\n",
              "      <td>0</td>\n",
              "      <td>0</td>\n",
              "      <td>0</td>\n",
              "      <td>0</td>\n",
              "      <td>0</td>\n",
              "      <td>10</td>\n",
              "      <td>132</td>\n",
              "      <td>1</td>\n",
              "      <td>24</td>\n",
              "      <td>0</td>\n",
              "      <td>0</td>\n",
              "      <td>0</td>\n",
              "      <td>0</td>\n",
              "      <td>1</td>\n",
              "      <td>0</td>\n",
              "      <td>0</td>\n",
              "      <td>0</td>\n",
              "      <td>0</td>\n",
              "      <td>0</td>\n",
              "      <td>0</td>\n",
              "      <td>0</td>\n",
              "      <td>1</td>\n",
              "      <td>0</td>\n",
              "      <td>0</td>\n",
              "      <td>5</td>\n",
              "      <td>4</td>\n",
              "    </tr>\n",
              "    <tr>\n",
              "      <th>2</th>\n",
              "      <td>634995</td>\n",
              "      <td>0</td>\n",
              "      <td>463</td>\n",
              "      <td>1</td>\n",
              "      <td>0.0</td>\n",
              "      <td>806.0</td>\n",
              "      <td>11.291045</td>\n",
              "      <td>1.0</td>\n",
              "      <td>70.495138</td>\n",
              "      <td>0.0</td>\n",
              "      <td>806.0</td>\n",
              "      <td>7.574627</td>\n",
              "      <td>0.0</td>\n",
              "      <td>69.435826</td>\n",
              "      <td>0.0</td>\n",
              "      <td>76.0</td>\n",
              "      <td>2.604478</td>\n",
              "      <td>0.0</td>\n",
              "      <td>8.505502</td>\n",
              "      <td>0.0</td>\n",
              "      <td>806.0</td>\n",
              "      <td>10.649254</td>\n",
              "      <td>1.0</td>\n",
              "      <td>70.254788</td>\n",
              "      <td>-69.0</td>\n",
              "      <td>806.0</td>\n",
              "      <td>4.970149</td>\n",
              "      <td>0.0</td>\n",
              "      <td>69.85058</td>\n",
              "      <td>0</td>\n",
              "      <td>0</td>\n",
              "      <td>0</td>\n",
              "      <td>0</td>\n",
              "      <td>0</td>\n",
              "      <td>14</td>\n",
              "      <td>133</td>\n",
              "      <td>2</td>\n",
              "      <td>24</td>\n",
              "      <td>0</td>\n",
              "      <td>0</td>\n",
              "      <td>0</td>\n",
              "      <td>0</td>\n",
              "      <td>0</td>\n",
              "      <td>1</td>\n",
              "      <td>0</td>\n",
              "      <td>0</td>\n",
              "      <td>0</td>\n",
              "      <td>0</td>\n",
              "      <td>0</td>\n",
              "      <td>0</td>\n",
              "      <td>0</td>\n",
              "      <td>1</td>\n",
              "      <td>0</td>\n",
              "      <td>6</td>\n",
              "      <td>5</td>\n",
              "    </tr>\n",
              "  </tbody>\n",
              "</table>\n",
              "</div>"
            ],
            "text/plain": [
              "   Page_popularity  ...  Post_published_day_num\n",
              "0           634995  ...                       3\n",
              "1           634995  ...                       4\n",
              "2           634995  ...                       5\n",
              "\n",
              "[3 rows x 55 columns]"
            ]
          },
          "metadata": {
            "tags": []
          },
          "execution_count": 40
        }
      ]
    },
    {
      "cell_type": "code",
      "metadata": {
        "id": "LIPjfECtv4Cs"
      },
      "source": [
        "selected_columns_week = ['Page_popularity', 'Page_checkins', 'Page_talking_about',\r\n",
        "       'Page_category', 'CC1', 'CC2', 'CC3', 'CC4', 'CC5', 'Base_time', \r\n",
        "       'Post_lenght', 'Post_share_count', 'H_local', 'Post_published_day_num', 'Target_variable']"
      ],
      "execution_count": null,
      "outputs": []
    },
    {
      "cell_type": "code",
      "metadata": {
        "colab": {
          "base_uri": "https://localhost:8080/"
        },
        "id": "eLCM11zywFyi",
        "outputId": "bdcce7e9-8bb6-45f9-eac0-faba0cbac974"
      },
      "source": [
        "correlation_week = clean_train[selected_columns_week].corr()\r\n",
        "correlation_week['Target_variable'].sort_values(ascending=False)"
      ],
      "execution_count": null,
      "outputs": [
        {
          "output_type": "execute_result",
          "data": {
            "text/plain": [
              "Target_variable           1.000000\n",
              "CC2                       0.537412\n",
              "CC5                       0.372872\n",
              "CC4                       0.339764\n",
              "CC1                       0.324232\n",
              "Page_talking_about        0.193326\n",
              "Post_share_count          0.130621\n",
              "CC3                       0.072194\n",
              "Page_popularity           0.065862\n",
              "Page_checkins             0.033112\n",
              "H_local                   0.012202\n",
              "Post_lenght              -0.001097\n",
              "Post_published_day_num   -0.008492\n",
              "Page_category            -0.069680\n",
              "Base_time                -0.223673\n",
              "Name: Target_variable, dtype: float64"
            ]
          },
          "metadata": {
            "tags": []
          },
          "execution_count": 43
        }
      ]
    },
    {
      "cell_type": "code",
      "metadata": {
        "id": "EaZofmeMfw8C"
      },
      "source": [
        "clean_train.to_csv(f\"{path}Clean_Train_Full.csv\", sep=',', index=False)"
      ],
      "execution_count": null,
      "outputs": []
    },
    {
      "cell_type": "markdown",
      "metadata": {
        "id": "hDb5kDMvavwW"
      },
      "source": [
        "## Datetime_day in 1 column"
      ]
    },
    {
      "cell_type": "code",
      "metadata": {
        "colab": {
          "base_uri": "https://localhost:8080/"
        },
        "id": "Pb25XGEScS7Z",
        "outputId": "f30ecef1-37ba-4355-a95e-6784f8c963fc"
      },
      "source": [
        "clean_train = pd.read_csv(f\"{path}Clean_Train_Full.csv\")\r\n",
        "clean_train.info"
      ],
      "execution_count": null,
      "outputs": [
        {
          "output_type": "execute_result",
          "data": {
            "text/plain": [
              "<bound method DataFrame.info of         Page_popularity  Page_checkins  ...  Base_DateTime_saturday  Target_variable\n",
              "0                634995              0  ...                       1                0\n",
              "1                634995              0  ...                       0                0\n",
              "2                634995              0  ...                       1                0\n",
              "3                634995              0  ...                       0                0\n",
              "4                634995              0  ...                       0                0\n",
              "...                 ...            ...  ...                     ...              ...\n",
              "602400          7170111             70  ...                       0              203\n",
              "602401          7170111             70  ...                       0               42\n",
              "602402          7170111             70  ...                       0               51\n",
              "602403          7170111             70  ...                       0               17\n",
              "602404          7170111             70  ...                       0               21\n",
              "\n",
              "[602405 rows x 53 columns]>"
            ]
          },
          "metadata": {
            "tags": []
          },
          "execution_count": 26
        }
      ]
    },
    {
      "cell_type": "code",
      "metadata": {
        "colab": {
          "base_uri": "https://localhost:8080/"
        },
        "id": "su8ua4UebBQn",
        "outputId": "fd2e59e0-2409-45f3-965b-ca1280dc903d"
      },
      "source": [
        "clean_train.columns"
      ],
      "execution_count": null,
      "outputs": [
        {
          "output_type": "execute_result",
          "data": {
            "text/plain": [
              "Index(['Page_popularity', 'Page_checkins', 'Page_talking_about',\n",
              "       'Page_category', 'CC1_min', 'CC1_max', 'CC1_avg', 'CC1_median',\n",
              "       'CC1_std', 'CC2_min', 'CC2_max', 'CC2_avg', 'CC2_median', 'CC2_std',\n",
              "       'CC3_min', 'CC3_max', 'CC3_avg', 'CC3_median', 'CC3_std', 'CC4_min',\n",
              "       'CC4_max', 'CC4_avg', 'CC4_median', 'CC4_std', 'CC5_min', 'CC5_max',\n",
              "       'CC5_avg', 'CC5_median', 'CC5_std', 'CC1', 'CC2', 'CC3', 'CC4', 'CC5',\n",
              "       'Base_time', 'Post_lenght', 'Post_share_count', 'H_local',\n",
              "       'Post_published_sunday', 'Post_published_monday',\n",
              "       'Post_published_tuesday', 'Post_published_wednesday',\n",
              "       'Post_published_thursday', 'Post_published_friday',\n",
              "       'Post_published_saturday', 'Base_DateTime_sunday',\n",
              "       'Base_DateTime_monday', 'Base_DateTime_tuesday',\n",
              "       'Base_DateTime_wednesday', 'Base_DateTime_thursday',\n",
              "       'Base_DateTime_friday', 'Base_DateTime_saturday', 'Target_variable'],\n",
              "      dtype='object')"
            ]
          },
          "metadata": {
            "tags": []
          },
          "execution_count": 28
        }
      ]
    },
    {
      "cell_type": "code",
      "metadata": {
        "colab": {
          "base_uri": "https://localhost:8080/"
        },
        "id": "LJG_f6foa6Wj",
        "outputId": "66f140a6-f234-4b8a-b853-f385e81989e6"
      },
      "source": [
        "datetime_day_num = []\r\n",
        "\r\n",
        "for index, row in clean_train.iterrows():\r\n",
        "  done = False\r\n",
        "  while done is False:\r\n",
        "\r\n",
        "    if row[\"Base_DateTime_monday\"] == 1:\r\n",
        "      datetime_day_num.append(1)\r\n",
        "      done = True\r\n",
        "\r\n",
        "    if row[\"Base_DateTime_tuesday\"] == 1:\r\n",
        "      datetime_day_num.append(2)\r\n",
        "      done = True \r\n",
        "\r\n",
        "    if row[\"Base_DateTime_wednesday\"] == 1:\r\n",
        "      datetime_day_num.append(3)\r\n",
        "      done = True \r\n",
        "\r\n",
        "    if row[\"Base_DateTime_thursday\"] == 1:\r\n",
        "      datetime_day_num.append(4)\r\n",
        "      done = True\r\n",
        "\r\n",
        "    if row[\"Base_DateTime_friday\"] == 1:\r\n",
        "      datetime_day_num.append(5)\r\n",
        "      done = True\r\n",
        "\r\n",
        "    if row[\"Base_DateTime_saturday\"] == 1:\r\n",
        "      datetime_day_num.append(6)\r\n",
        "      done = True\r\n",
        "\r\n",
        "    if row[\"Base_DateTime_sunday\"] == 1:\r\n",
        "      datetime_day_num.append(7)\r\n",
        "      done = True\r\n",
        "    \r\n",
        "    done = True\r\n",
        "\r\n",
        "print(len(datetime_day_num))"
      ],
      "execution_count": null,
      "outputs": [
        {
          "output_type": "stream",
          "text": [
            "602405\n"
          ],
          "name": "stdout"
        }
      ]
    },
    {
      "cell_type": "code",
      "metadata": {
        "colab": {
          "base_uri": "https://localhost:8080/"
        },
        "id": "2gGIXCwHdum-",
        "outputId": "f2a2de76-a92e-45bd-fcc9-e6c53f0ec9fa"
      },
      "source": [
        "datetime_day_num[1:6]"
      ],
      "execution_count": null,
      "outputs": [
        {
          "output_type": "execute_result",
          "data": {
            "text/plain": [
              "[5, 6, 1, 3, 5]"
            ]
          },
          "metadata": {
            "tags": []
          },
          "execution_count": 30
        }
      ]
    },
    {
      "cell_type": "code",
      "metadata": {
        "colab": {
          "base_uri": "https://localhost:8080/",
          "height": 157
        },
        "id": "XDC4N4oVd0jJ",
        "outputId": "e5ea66f9-c5b0-463b-9a27-c8c1fa54aa48"
      },
      "source": [
        "clean_train[\"Base_DateTime_day_num\"] = datetime_day_num\r\n",
        "clean_train.head(3)"
      ],
      "execution_count": null,
      "outputs": [
        {
          "output_type": "execute_result",
          "data": {
            "text/html": [
              "<div>\n",
              "<style scoped>\n",
              "    .dataframe tbody tr th:only-of-type {\n",
              "        vertical-align: middle;\n",
              "    }\n",
              "\n",
              "    .dataframe tbody tr th {\n",
              "        vertical-align: top;\n",
              "    }\n",
              "\n",
              "    .dataframe thead th {\n",
              "        text-align: right;\n",
              "    }\n",
              "</style>\n",
              "<table border=\"1\" class=\"dataframe\">\n",
              "  <thead>\n",
              "    <tr style=\"text-align: right;\">\n",
              "      <th></th>\n",
              "      <th>Page_popularity</th>\n",
              "      <th>Page_checkins</th>\n",
              "      <th>Page_talking_about</th>\n",
              "      <th>Page_category</th>\n",
              "      <th>CC1_min</th>\n",
              "      <th>CC1_max</th>\n",
              "      <th>CC1_avg</th>\n",
              "      <th>CC1_median</th>\n",
              "      <th>CC1_std</th>\n",
              "      <th>CC2_min</th>\n",
              "      <th>CC2_max</th>\n",
              "      <th>CC2_avg</th>\n",
              "      <th>CC2_median</th>\n",
              "      <th>CC2_std</th>\n",
              "      <th>CC3_min</th>\n",
              "      <th>CC3_max</th>\n",
              "      <th>CC3_avg</th>\n",
              "      <th>CC3_median</th>\n",
              "      <th>CC3_std</th>\n",
              "      <th>CC4_min</th>\n",
              "      <th>CC4_max</th>\n",
              "      <th>CC4_avg</th>\n",
              "      <th>CC4_median</th>\n",
              "      <th>CC4_std</th>\n",
              "      <th>CC5_min</th>\n",
              "      <th>CC5_max</th>\n",
              "      <th>CC5_avg</th>\n",
              "      <th>CC5_median</th>\n",
              "      <th>CC5_std</th>\n",
              "      <th>CC1</th>\n",
              "      <th>CC2</th>\n",
              "      <th>CC3</th>\n",
              "      <th>CC4</th>\n",
              "      <th>CC5</th>\n",
              "      <th>Base_time</th>\n",
              "      <th>Post_lenght</th>\n",
              "      <th>Post_share_count</th>\n",
              "      <th>H_local</th>\n",
              "      <th>Post_published_sunday</th>\n",
              "      <th>Post_published_monday</th>\n",
              "      <th>Post_published_tuesday</th>\n",
              "      <th>Post_published_wednesday</th>\n",
              "      <th>Post_published_thursday</th>\n",
              "      <th>Post_published_friday</th>\n",
              "      <th>Post_published_saturday</th>\n",
              "      <th>Base_DateTime_sunday</th>\n",
              "      <th>Base_DateTime_monday</th>\n",
              "      <th>Base_DateTime_tuesday</th>\n",
              "      <th>Base_DateTime_wednesday</th>\n",
              "      <th>Base_DateTime_thursday</th>\n",
              "      <th>Base_DateTime_friday</th>\n",
              "      <th>Base_DateTime_saturday</th>\n",
              "      <th>Target_variable</th>\n",
              "      <th>Base_DateTime_day_num</th>\n",
              "    </tr>\n",
              "  </thead>\n",
              "  <tbody>\n",
              "    <tr>\n",
              "      <th>0</th>\n",
              "      <td>634995</td>\n",
              "      <td>0</td>\n",
              "      <td>463</td>\n",
              "      <td>1</td>\n",
              "      <td>0.0</td>\n",
              "      <td>806.0</td>\n",
              "      <td>11.291045</td>\n",
              "      <td>1.0</td>\n",
              "      <td>70.495138</td>\n",
              "      <td>0.0</td>\n",
              "      <td>806.0</td>\n",
              "      <td>7.574627</td>\n",
              "      <td>0.0</td>\n",
              "      <td>69.435826</td>\n",
              "      <td>0.0</td>\n",
              "      <td>76.0</td>\n",
              "      <td>2.604478</td>\n",
              "      <td>0.0</td>\n",
              "      <td>8.505502</td>\n",
              "      <td>0.0</td>\n",
              "      <td>806.0</td>\n",
              "      <td>10.649254</td>\n",
              "      <td>1.0</td>\n",
              "      <td>70.254788</td>\n",
              "      <td>-69.0</td>\n",
              "      <td>806.0</td>\n",
              "      <td>4.970149</td>\n",
              "      <td>0.0</td>\n",
              "      <td>69.85058</td>\n",
              "      <td>0</td>\n",
              "      <td>0</td>\n",
              "      <td>0</td>\n",
              "      <td>0</td>\n",
              "      <td>0</td>\n",
              "      <td>65</td>\n",
              "      <td>166</td>\n",
              "      <td>2</td>\n",
              "      <td>24</td>\n",
              "      <td>0</td>\n",
              "      <td>0</td>\n",
              "      <td>0</td>\n",
              "      <td>1</td>\n",
              "      <td>0</td>\n",
              "      <td>0</td>\n",
              "      <td>0</td>\n",
              "      <td>0</td>\n",
              "      <td>0</td>\n",
              "      <td>0</td>\n",
              "      <td>0</td>\n",
              "      <td>0</td>\n",
              "      <td>0</td>\n",
              "      <td>1</td>\n",
              "      <td>0</td>\n",
              "      <td>6</td>\n",
              "    </tr>\n",
              "    <tr>\n",
              "      <th>1</th>\n",
              "      <td>634995</td>\n",
              "      <td>0</td>\n",
              "      <td>463</td>\n",
              "      <td>1</td>\n",
              "      <td>0.0</td>\n",
              "      <td>806.0</td>\n",
              "      <td>11.291045</td>\n",
              "      <td>1.0</td>\n",
              "      <td>70.495138</td>\n",
              "      <td>0.0</td>\n",
              "      <td>806.0</td>\n",
              "      <td>7.574627</td>\n",
              "      <td>0.0</td>\n",
              "      <td>69.435826</td>\n",
              "      <td>0.0</td>\n",
              "      <td>76.0</td>\n",
              "      <td>2.604478</td>\n",
              "      <td>0.0</td>\n",
              "      <td>8.505502</td>\n",
              "      <td>0.0</td>\n",
              "      <td>806.0</td>\n",
              "      <td>10.649254</td>\n",
              "      <td>1.0</td>\n",
              "      <td>70.254788</td>\n",
              "      <td>-69.0</td>\n",
              "      <td>806.0</td>\n",
              "      <td>4.970149</td>\n",
              "      <td>0.0</td>\n",
              "      <td>69.85058</td>\n",
              "      <td>0</td>\n",
              "      <td>0</td>\n",
              "      <td>0</td>\n",
              "      <td>0</td>\n",
              "      <td>0</td>\n",
              "      <td>10</td>\n",
              "      <td>132</td>\n",
              "      <td>1</td>\n",
              "      <td>24</td>\n",
              "      <td>0</td>\n",
              "      <td>0</td>\n",
              "      <td>0</td>\n",
              "      <td>0</td>\n",
              "      <td>1</td>\n",
              "      <td>0</td>\n",
              "      <td>0</td>\n",
              "      <td>0</td>\n",
              "      <td>0</td>\n",
              "      <td>0</td>\n",
              "      <td>0</td>\n",
              "      <td>0</td>\n",
              "      <td>1</td>\n",
              "      <td>0</td>\n",
              "      <td>0</td>\n",
              "      <td>5</td>\n",
              "    </tr>\n",
              "    <tr>\n",
              "      <th>2</th>\n",
              "      <td>634995</td>\n",
              "      <td>0</td>\n",
              "      <td>463</td>\n",
              "      <td>1</td>\n",
              "      <td>0.0</td>\n",
              "      <td>806.0</td>\n",
              "      <td>11.291045</td>\n",
              "      <td>1.0</td>\n",
              "      <td>70.495138</td>\n",
              "      <td>0.0</td>\n",
              "      <td>806.0</td>\n",
              "      <td>7.574627</td>\n",
              "      <td>0.0</td>\n",
              "      <td>69.435826</td>\n",
              "      <td>0.0</td>\n",
              "      <td>76.0</td>\n",
              "      <td>2.604478</td>\n",
              "      <td>0.0</td>\n",
              "      <td>8.505502</td>\n",
              "      <td>0.0</td>\n",
              "      <td>806.0</td>\n",
              "      <td>10.649254</td>\n",
              "      <td>1.0</td>\n",
              "      <td>70.254788</td>\n",
              "      <td>-69.0</td>\n",
              "      <td>806.0</td>\n",
              "      <td>4.970149</td>\n",
              "      <td>0.0</td>\n",
              "      <td>69.85058</td>\n",
              "      <td>0</td>\n",
              "      <td>0</td>\n",
              "      <td>0</td>\n",
              "      <td>0</td>\n",
              "      <td>0</td>\n",
              "      <td>14</td>\n",
              "      <td>133</td>\n",
              "      <td>2</td>\n",
              "      <td>24</td>\n",
              "      <td>0</td>\n",
              "      <td>0</td>\n",
              "      <td>0</td>\n",
              "      <td>0</td>\n",
              "      <td>0</td>\n",
              "      <td>1</td>\n",
              "      <td>0</td>\n",
              "      <td>0</td>\n",
              "      <td>0</td>\n",
              "      <td>0</td>\n",
              "      <td>0</td>\n",
              "      <td>0</td>\n",
              "      <td>0</td>\n",
              "      <td>1</td>\n",
              "      <td>0</td>\n",
              "      <td>6</td>\n",
              "    </tr>\n",
              "  </tbody>\n",
              "</table>\n",
              "</div>"
            ],
            "text/plain": [
              "   Page_popularity  Page_checkins  ...  Target_variable  Base_DateTime_day_num\n",
              "0           634995              0  ...                0                      6\n",
              "1           634995              0  ...                0                      5\n",
              "2           634995              0  ...                0                      6\n",
              "\n",
              "[3 rows x 54 columns]"
            ]
          },
          "metadata": {
            "tags": []
          },
          "execution_count": 31
        }
      ]
    },
    {
      "cell_type": "code",
      "metadata": {
        "id": "SVEVEy3heaHA"
      },
      "source": [
        "selected_columns_datetime = ['Page_popularity', 'Page_checkins', 'Page_talking_about',\r\n",
        "       'Page_category', 'CC1', 'CC2', 'CC3', 'CC4', 'CC5', 'Base_time', \r\n",
        "       'Post_lenght', 'Post_share_count', 'H_local', 'Base_DateTime_day_num', 'Target_variable']"
      ],
      "execution_count": null,
      "outputs": []
    },
    {
      "cell_type": "code",
      "metadata": {
        "colab": {
          "base_uri": "https://localhost:8080/"
        },
        "id": "F-lnABqhefA1",
        "outputId": "753ef1df-5cee-49fc-fb0d-16c2e43c00f9"
      },
      "source": [
        "correlation_datetime = clean_train[selected_columns_datetime].corr()\r\n",
        "correlation_datetime['Target_variable'].sort_values(ascending=False)"
      ],
      "execution_count": null,
      "outputs": [
        {
          "output_type": "execute_result",
          "data": {
            "text/plain": [
              "Target_variable          1.000000\n",
              "CC2                      0.537412\n",
              "CC5                      0.372872\n",
              "CC4                      0.339764\n",
              "CC1                      0.324232\n",
              "Page_talking_about       0.193326\n",
              "Post_share_count         0.130621\n",
              "CC3                      0.072194\n",
              "Page_popularity          0.065862\n",
              "Page_checkins            0.033112\n",
              "H_local                  0.012202\n",
              "Post_lenght             -0.001097\n",
              "Base_DateTime_day_num   -0.011937\n",
              "Page_category           -0.069680\n",
              "Base_time               -0.223673\n",
              "Name: Target_variable, dtype: float64"
            ]
          },
          "metadata": {
            "tags": []
          },
          "execution_count": 36
        }
      ]
    },
    {
      "cell_type": "code",
      "metadata": {
        "id": "AHv9mkoreu9N"
      },
      "source": [
        "clean_train.to_csv(f\"{path}Clean_Train_Full.csv\", sep=',', index=False)"
      ],
      "execution_count": null,
      "outputs": []
    },
    {
      "cell_type": "markdown",
      "metadata": {
        "id": "Umr31ReYiE23"
      },
      "source": [
        "## Clean test"
      ]
    },
    {
      "cell_type": "code",
      "metadata": {
        "colab": {
          "base_uri": "https://localhost:8080/"
        },
        "id": "j-THYQ-MiLaG",
        "outputId": "a2532cd1-1c1d-4adf-c414-4873b88173b8"
      },
      "source": [
        "import pandas as pd \r\n",
        "\r\n",
        "data_test = pd.read_csv(f\"{path_test}All_Testing.csv\")\r\n",
        "data_test.info"
      ],
      "execution_count": null,
      "outputs": [
        {
          "output_type": "execute_result",
          "data": {
            "text/plain": [
              "<bound method DataFrame.info of      Page_popularity  Page_checkins  ...  Base_DateTime_saturday  Target_variable\n",
              "0            1340759          33935  ...                       0               35\n",
              "1             161455              0  ...                       1                2\n",
              "2              92385             88  ...                       1                0\n",
              "3             395272              0  ...                       0                0\n",
              "4            4349418              0  ...                       0                0\n",
              "..               ...            ...  ...                     ...              ...\n",
              "995           220578              0  ...                       1                0\n",
              "996           160261              0  ...                       0                1\n",
              "997          4253181             40  ...                       0                0\n",
              "998           952756              8  ...                       0                0\n",
              "999          4716837              0  ...                       0                5\n",
              "\n",
              "[1000 rows x 54 columns]>"
            ]
          },
          "metadata": {
            "tags": []
          },
          "execution_count": 65
        }
      ]
    },
    {
      "cell_type": "code",
      "metadata": {
        "id": "icpF5K5ziHGw"
      },
      "source": [
        "# drop duplicates\r\n",
        "clean_test = data_test.drop_duplicates()"
      ],
      "execution_count": null,
      "outputs": []
    },
    {
      "cell_type": "code",
      "metadata": {
        "id": "FOTIIXQRiJWr"
      },
      "source": [
        "# ignore constant column\r\n",
        "clean_test = clean_test.loc[:, clean_test.columns != 'Post_promotion_status']"
      ],
      "execution_count": null,
      "outputs": []
    },
    {
      "cell_type": "code",
      "metadata": {
        "colab": {
          "base_uri": "https://localhost:8080/"
        },
        "id": "2IM8TQ1CjIUN",
        "outputId": "34ef6294-1963-47a6-8baa-7f314069d7ea"
      },
      "source": [
        "clean_test.info"
      ],
      "execution_count": null,
      "outputs": [
        {
          "output_type": "execute_result",
          "data": {
            "text/plain": [
              "<bound method DataFrame.info of      Page_popularity  Page_checkins  ...  Base_DateTime_saturday  Target_variable\n",
              "0            1340759          33935  ...                       0               35\n",
              "1             161455              0  ...                       1                2\n",
              "2              92385             88  ...                       1                0\n",
              "3             395272              0  ...                       0                0\n",
              "4            4349418              0  ...                       0                0\n",
              "..               ...            ...  ...                     ...              ...\n",
              "995           220578              0  ...                       1                0\n",
              "996           160261              0  ...                       0                1\n",
              "997          4253181             40  ...                       0                0\n",
              "998           952756              8  ...                       0                0\n",
              "999          4716837              0  ...                       0                5\n",
              "\n",
              "[1000 rows x 53 columns]>"
            ]
          },
          "metadata": {
            "tags": []
          },
          "execution_count": 68
        }
      ]
    },
    {
      "cell_type": "code",
      "metadata": {
        "colab": {
          "base_uri": "https://localhost:8080/"
        },
        "id": "q8cTxfFhix98",
        "outputId": "13f73685-0e80-4f68-a343-af1fe758e558"
      },
      "source": [
        "week_day_num = []\r\n",
        "\r\n",
        "for index, row in clean_test.iterrows():\r\n",
        "  done = False\r\n",
        "  while done is False:\r\n",
        "    if row[\"Post_published_monday\"] == 1:\r\n",
        "      week_day_num.append(1)\r\n",
        "      done = True\r\n",
        "\r\n",
        "    if row[\"Post_published_tuesday\"] == 1:\r\n",
        "      week_day_num.append(2)\r\n",
        "      done = True \r\n",
        "\r\n",
        "    if row[\"Post_published_wednesday\"] == 1:\r\n",
        "      week_day_num.append(3)\r\n",
        "      done = True \r\n",
        "\r\n",
        "    if row[\"Post_published_thursday\"] == 1:\r\n",
        "      week_day_num.append(4)\r\n",
        "      done = True\r\n",
        "\r\n",
        "    if row[\"Post_published_friday\"] == 1:\r\n",
        "      week_day_num.append(5)\r\n",
        "      done = True\r\n",
        "\r\n",
        "    if row[\"Post_published_saturday\"] == 1:\r\n",
        "      week_day_num.append(6)\r\n",
        "      done = True\r\n",
        "\r\n",
        "    if row[\"Post_published_sunday\"] == 1:\r\n",
        "      week_day_num.append(7)\r\n",
        "      done = True\r\n",
        "    \r\n",
        "    done = True\r\n",
        "\r\n",
        "print(len(week_day_num))"
      ],
      "execution_count": null,
      "outputs": [
        {
          "output_type": "stream",
          "text": [
            "1000\n"
          ],
          "name": "stdout"
        }
      ]
    },
    {
      "cell_type": "code",
      "metadata": {
        "colab": {
          "base_uri": "https://localhost:8080/"
        },
        "id": "7X8dKr7UrlYG",
        "outputId": "4a526af3-d456-4360-867e-1c17fc76c566"
      },
      "source": [
        "datetime_day_num = []\r\n",
        "\r\n",
        "for index, row in clean_test.iterrows():\r\n",
        "  done = False\r\n",
        "  while done is False:\r\n",
        "\r\n",
        "    if row[\"Base_DateTime_monday\"] == 1:\r\n",
        "      datetime_day_num.append(1)\r\n",
        "      done = True\r\n",
        "\r\n",
        "    if row[\"Base_DateTime_tuesday\"] == 1:\r\n",
        "      datetime_day_num.append(2)\r\n",
        "      done = True \r\n",
        "\r\n",
        "    if row[\"Base_DateTime_wednesday\"] == 1:\r\n",
        "      datetime_day_num.append(3)\r\n",
        "      done = True \r\n",
        "\r\n",
        "    if row[\"Base_DateTime_thursday\"] == 1:\r\n",
        "      datetime_day_num.append(4)\r\n",
        "      done = True\r\n",
        "\r\n",
        "    if row[\"Base_DateTime_friday\"] == 1:\r\n",
        "      datetime_day_num.append(5)\r\n",
        "      done = True\r\n",
        "\r\n",
        "    if row[\"Base_DateTime_saturday\"] == 1:\r\n",
        "      datetime_day_num.append(6)\r\n",
        "      done = True\r\n",
        "\r\n",
        "    if row[\"Base_DateTime_sunday\"] == 1:\r\n",
        "      datetime_day_num.append(7)\r\n",
        "      done = True\r\n",
        "    \r\n",
        "    done = True\r\n",
        "\r\n",
        "print(len(datetime_day_num))"
      ],
      "execution_count": null,
      "outputs": [
        {
          "output_type": "stream",
          "text": [
            "1000\n"
          ],
          "name": "stdout"
        }
      ]
    },
    {
      "cell_type": "code",
      "metadata": {
        "id": "hGYYY-ONrVY1"
      },
      "source": [
        "clean_test[\"Post_published_day_num\"] = week_day_num\r\n",
        "clean_test[\"Base_DateTime_day_num\"] = datetime_day_num"
      ],
      "execution_count": null,
      "outputs": []
    },
    {
      "cell_type": "code",
      "metadata": {
        "id": "6yni3MoHrcXJ"
      },
      "source": [
        "clean_test.to_csv(f\"{path_test}Clean_Test_Full.csv\", sep=',', index=False)"
      ],
      "execution_count": null,
      "outputs": []
    },
    {
      "cell_type": "markdown",
      "metadata": {
        "id": "XhEQzc0cmfGK"
      },
      "source": [
        "# Creation dataset avec selection de colonnes"
      ]
    },
    {
      "cell_type": "code",
      "metadata": {
        "id": "P70JTEqTnQDE"
      },
      "source": [
        "clean_train = pd.read_csv(f\"{path_train}Clean_Train_Full.csv\")\r\n",
        "clean_test = pd.read_csv(f\"{path_test}Clean_Test_Full.csv\")"
      ],
      "execution_count": 45,
      "outputs": []
    },
    {
      "cell_type": "markdown",
      "metadata": {
        "id": "CUSnm1txm7De"
      },
      "source": [
        "### Première selection"
      ]
    },
    {
      "cell_type": "code",
      "metadata": {
        "id": "tr4mZrCMnk5z"
      },
      "source": [
        "selected_columns_1 = ['CC1', 'CC2', 'CC3', 'CC4', 'CC5', 'Page_talking_about', 'Post_share_count', \r\n",
        "                    'Page_category', 'Base_time', 'Post_published_day_num', 'Base_DateTime_day_num', \r\n",
        "                    'Target_variable']"
      ],
      "execution_count": null,
      "outputs": []
    },
    {
      "cell_type": "code",
      "metadata": {
        "id": "kxWh7pz-m3dD"
      },
      "source": [
        "clean_train[selected_columns_1].to_csv(f\"{path_train}Clean_Train_1.csv\", sep=',', index=False)"
      ],
      "execution_count": null,
      "outputs": []
    },
    {
      "cell_type": "code",
      "metadata": {
        "id": "jJRVGwKbsacJ"
      },
      "source": [
        "clean_test[selected_columns_1].to_csv(f\"{path_test}Clean_Test_1.csv\", sep=',', index=False)"
      ],
      "execution_count": null,
      "outputs": []
    },
    {
      "cell_type": "markdown",
      "metadata": {
        "id": "BNwz-xgthoqN"
      },
      "source": [
        "### Deuxième selection (pas de valeurs trop grandes)"
      ]
    },
    {
      "cell_type": "code",
      "metadata": {
        "id": "SzniT7wlhs2R"
      },
      "source": [
        "selected_columns_2 = ['CC1', 'CC2', 'CC3', 'CC4', 'CC5', 'Page_talking_about', 'Post_share_count', \r\n",
        "                    'Page_category', 'Base_time', 'Post_published_day_num', 'Base_DateTime_day_num', \r\n",
        "                    'Target_variable']"
      ],
      "execution_count": 77,
      "outputs": []
    },
    {
      "cell_type": "code",
      "metadata": {
        "id": "NY1wom6Ph0Lq"
      },
      "source": [
        "clean_train_2 = clean_train[selected_columns_2]\r\n",
        "clean_test_2 = clean_test[selected_columns_2]"
      ],
      "execution_count": 78,
      "outputs": []
    },
    {
      "cell_type": "code",
      "metadata": {
        "colab": {
          "base_uri": "https://localhost:8080/"
        },
        "id": "9z_jQ7rWiLUP",
        "outputId": "bf7edcda-a47a-4149-91f6-1ed5c99c4cc8"
      },
      "source": [
        "print(len(clean_train_2.index), len(clean_test_2.index))"
      ],
      "execution_count": 79,
      "outputs": [
        {
          "output_type": "stream",
          "text": [
            "602405 1000\n"
          ],
          "name": "stdout"
        }
      ]
    },
    {
      "cell_type": "code",
      "metadata": {
        "colab": {
          "base_uri": "https://localhost:8080/"
        },
        "id": "kyBnMCGAicE5",
        "outputId": "17969f48-67bd-4ad4-b923-994efa5a07b7"
      },
      "source": [
        "clean_train_2 = clean_train_2.loc[clean_train_2['Target_variable'] < 100]\r\n",
        "clean_train_2['Target_variable'].describe()"
      ],
      "execution_count": 80,
      "outputs": [
        {
          "output_type": "execute_result",
          "data": {
            "text/plain": [
              "count    593940.000000\n",
              "mean          4.104388\n",
              "std          11.253091\n",
              "min           0.000000\n",
              "25%           0.000000\n",
              "50%           0.000000\n",
              "75%           2.000000\n",
              "max          99.000000\n",
              "Name: Target_variable, dtype: float64"
            ]
          },
          "metadata": {
            "tags": []
          },
          "execution_count": 80
        }
      ]
    },
    {
      "cell_type": "code",
      "metadata": {
        "colab": {
          "base_uri": "https://localhost:8080/"
        },
        "id": "yNPOe-toizf7",
        "outputId": "03ded330-6013-41e2-874d-b795d7a7d88b"
      },
      "source": [
        "clean_test_2 = clean_test_2.loc[clean_test_2['Target_variable'] < 100]\r\n",
        "clean_test_2['Target_variable'].describe()"
      ],
      "execution_count": 81,
      "outputs": [
        {
          "output_type": "execute_result",
          "data": {
            "text/plain": [
              "count    941.000000\n",
              "mean       9.193411\n",
              "std       17.852671\n",
              "min        0.000000\n",
              "25%        0.000000\n",
              "50%        2.000000\n",
              "75%        8.000000\n",
              "max       99.000000\n",
              "Name: Target_variable, dtype: float64"
            ]
          },
          "metadata": {
            "tags": []
          },
          "execution_count": 81
        }
      ]
    },
    {
      "cell_type": "code",
      "metadata": {
        "id": "YF5OUELAkmzb"
      },
      "source": [
        "clean_train_2.to_csv(f\"{path_train}Clean_Train_2.csv\", sep=',', index=False)\r\n",
        "clean_test_2.to_csv(f\"{path_test}Clean_Test_2.csv\", sep=',', index=False)"
      ],
      "execution_count": 94,
      "outputs": []
    },
    {
      "cell_type": "markdown",
      "metadata": {
        "id": "ziUFPzSqmspF"
      },
      "source": [
        "### Troisème selection (tout)"
      ]
    },
    {
      "cell_type": "code",
      "metadata": {
        "id": "mMuGNsrNmxOG"
      },
      "source": [
        "selected_columns_2 = ['Page_popularity', 'Page_checkins', 'Page_talking_about', 'Page_category', 'CC1_min', 'CC1_max', 'CC1_avg',\r\n",
        " 'CC1_median', 'CC1_std', 'CC2_min', 'CC2_max', 'CC2_avg', 'CC2_median', 'CC2_std', 'CC3_min', 'CC3_max', 'CC3_avg', \r\n",
        " 'CC3_median', 'CC3_std', 'CC4_min', 'CC4_max', 'CC4_avg', 'CC4_median', 'CC4_std', 'CC5_min', 'CC5_max', 'CC5_avg', \r\n",
        " 'CC5_median', 'CC5_std', 'CC1', 'CC2', 'CC3', 'CC4', 'CC5', 'Base_time', 'Post_lenght', 'Post_share_count', 'H_local', \r\n",
        " 'Post_published_sunday', 'Post_published_monday', 'Post_published_tuesday', \r\n",
        " 'Post_published_wednesday', 'Post_published_thursday', 'Post_published_friday', 'Post_published_saturday', \r\n",
        " 'Base_DateTime_sunday', 'Base_DateTime_monday', 'Base_DateTime_tuesday', 'Base_DateTime_wednesday', \r\n",
        " 'Base_DateTime_thursday', 'Base_DateTime_friday', 'Base_DateTime_saturday', 'Target_variable']"
      ],
      "execution_count": null,
      "outputs": []
    },
    {
      "cell_type": "code",
      "metadata": {
        "id": "GGsajrWkm0m-"
      },
      "source": [
        "clean_train[selected_columns_2].to_csv(f\"{path_train}Clean_Train_2.csv\", sep=',', index=False)\r\n",
        "clean_test[selected_columns_2].to_csv(f\"{path_test}Clean_Test_2.csv\", sep=',', index=False)"
      ],
      "execution_count": null,
      "outputs": []
    },
    {
      "cell_type": "markdown",
      "metadata": {
        "id": "g1oXotIMg8qv"
      },
      "source": [
        "# SANDBOX"
      ]
    },
    {
      "cell_type": "code",
      "metadata": {
        "id": "cROs8vnyWN1s"
      },
      "source": [
        "# A FAIRE\r\n",
        "import seaborn as sns\r\n",
        "sns.pairplot(train_dataset[['MPG', 'Cylinders', 'Displacement', 'Weight']], diag_kind='kde')"
      ],
      "execution_count": null,
      "outputs": []
    },
    {
      "cell_type": "code",
      "metadata": {
        "id": "4wXkCi6CjFZV"
      },
      "source": [
        "path_train = \"/content/drive/MyDrive/Python_For_Data_Analysis/Dataset/Dataset/Training/\"\r\n",
        "\r\n",
        "path_test = \"/content/drive/MyDrive/Python_For_Data_Analysis/Dataset/Dataset/Testing/TestSet/\"\r\n",
        "\r\n",
        "train_files = ['Features_Variant_1.csv', 'Features_Variant_2.csv', 'Features_Variant_3.csv', \r\n",
        "              'Features_Variant_4.csv', 'Features_Variant_5.csv']\r\n",
        "\r\n",
        "test_files = ['Test_Case_1.csv', 'Test_Case_2.csv', 'Test_Case_3.csv',\r\n",
        "              'Test_Case_4.csv', 'Test_Case_5.csv', 'Test_Case_6.csv', \r\n",
        "              'Test_Case_7.csv', 'Test_Case_8.csv', 'Test_Case_9.csv', \r\n",
        "              'Test_Case_10.csv']"
      ],
      "execution_count": 2,
      "outputs": []
    },
    {
      "cell_type": "markdown",
      "metadata": {
        "id": "lx8OZh6NqHDP"
      },
      "source": [
        "### Metrics / Evaluation"
      ]
    },
    {
      "cell_type": "code",
      "metadata": {
        "id": "pA91zHQDqJ6E"
      },
      "source": [
        "from sklearn import metrics\r\n",
        "from math import sqrt\r\n",
        "\r\n",
        "def get_metrics(y_test, y_predicted):\r\n",
        "\r\n",
        "  mae = metrics.mean_absolute_error(y_test, y_predicted)\r\n",
        "  rmse = sqrt(metrics.mean_squared_error(y_test, y_predicted))\r\n",
        "  r_2 = metrics.r2_score(y_test, y_predicted)\r\n",
        "\r\n",
        "  print(f\"Mean absolute error : {mae} \\nRoot mean square error : {rmse} \\nR_2 score : {r_2}\")\r\n",
        "\r\n",
        "  fig, (ax1, ax2) = plt.subplots(1, 2, figsize=(15,8))\r\n",
        "\r\n",
        "  ax1.scatter(y_test, y_predicted)\r\n",
        "  ax1.plot([0, max(y_test['Target_variable'])], [0, y_predicted.max()], '--k')\r\n",
        "\r\n",
        "  ax1.axis('tight')\r\n",
        "  ax1.set_xlabel('True nbr comments')\r\n",
        "  ax1.set_ylabel('Predicted nbr comments')\r\n",
        "  plt.tight_layout()\r\n",
        "\r\n",
        "  error = y_predicted - y_test\r\n",
        "  ax2.hist(error, bins=25)\r\n",
        "  ax2.set_xlabel('Prediction Error [MPG]')\r\n",
        "  _ = ax2.set_ylabel('Count')\r\n",
        "\r\n",
        "  return {'Mean_absolute_error' : mae, 'Root_mean_square_error' : rmse, 'R_2_score' : r_2}"
      ],
      "execution_count": 160,
      "outputs": []
    },
    {
      "cell_type": "markdown",
      "metadata": {
        "id": "oIolOa2kfYZw"
      },
      "source": [
        "### Linear regression"
      ]
    },
    {
      "cell_type": "code",
      "metadata": {
        "id": "RegAGmVcn6hi"
      },
      "source": [
        "from sklearn.linear_model import LinearRegression\r\n",
        "\r\n",
        "def do_linear_regression(x_train, y_train, x_test, y_test):\r\n",
        "\r\n",
        "  lr = LinearRegression()\r\n",
        "  lr.fit(x_train, y_train)\r\n",
        "\r\n",
        "  y_predicted_lin = lr.predict(x_test)\r\n",
        "\r\n",
        "  return get_metrics(y_test, y_predicted_lin)"
      ],
      "execution_count": 112,
      "outputs": []
    },
    {
      "cell_type": "markdown",
      "metadata": {
        "id": "8qYs71ksf3H7"
      },
      "source": [
        "### Gradient boosting"
      ]
    },
    {
      "cell_type": "code",
      "metadata": {
        "id": "aF8SXIZxpohz"
      },
      "source": [
        "from sklearn.ensemble import GradientBoostingRegressor\r\n",
        "\r\n",
        "def do_gradient_boosting(x_train, y_train, x_test, y_test):\r\n",
        "\r\n",
        "  gb = GradientBoostingRegressor()\r\n",
        "  gb.fit(x_train, y_train)\r\n",
        "\r\n",
        "  y_predicted_gb = gb.predict(x_test)\r\n",
        "\r\n",
        "  y_predicted_gb = np.exp(y_predicted_gb) - 1\r\n",
        "  y_predicted_gb = y_predicted_gb.reshape(len(y_predicted_gb),1)\r\n",
        "\r\n",
        "  return get_metrics(y_test, y_predicted_gb)"
      ],
      "execution_count": 113,
      "outputs": []
    },
    {
      "cell_type": "markdown",
      "metadata": {
        "id": "MybZJHGoxhrS"
      },
      "source": [
        "### Polynomial regression"
      ]
    },
    {
      "cell_type": "code",
      "metadata": {
        "id": "z8bvU5-ExmWH"
      },
      "source": [
        "from sklearn.preprocessing import PolynomialFeatures\r\n",
        "\r\n",
        "def do_poly_regression(x_train, y_train, x_test, y_test):\r\n",
        "\r\n",
        "  poly = PolynomialFeatures(degree=2, include_bias=True)\r\n",
        "\r\n",
        "  x_train_poly = poly.fit_transform(x_train)\r\n",
        "  x_test_poly = poly.fit_transform(x_test)\r\n",
        "\r\n",
        "  return do_linear_regression(x_train_poly, y_train, x_test_poly, y_test)"
      ],
      "execution_count": 114,
      "outputs": []
    },
    {
      "cell_type": "markdown",
      "metadata": {
        "id": "g4FRptlFzj8d"
      },
      "source": [
        "### Random forest"
      ]
    },
    {
      "cell_type": "code",
      "metadata": {
        "id": "Sb3FQ7pBzl-x"
      },
      "source": [
        "from sklearn.ensemble import RandomForestRegressor\r\n",
        "\r\n",
        "def do_random_forest(x_train, y_train, x_test, y_test):\r\n",
        "\r\n",
        "  rf = RandomForestRegressor(max_depth=8, random_state=0, n_estimators=100)\r\n",
        "\r\n",
        "  rf.fit(x_train, y_train)\r\n",
        "\r\n",
        "  y_predicted_rf = rf.predict(x_test)\r\n",
        "\r\n",
        "  y_predicted_rf = np.exp(y_predicted_rf) - 1\r\n",
        "  y_predicted_rf = y_predicted_rf.reshape(len(y_predicted_rf),1)\r\n",
        "\r\n",
        "  eval = get_metrics(y_test, y_predicted_rf)\r\n",
        "\r\n",
        "  return rf, eval"
      ],
      "execution_count": 143,
      "outputs": []
    },
    {
      "cell_type": "markdown",
      "metadata": {
        "id": "96BnHpEDNwuC"
      },
      "source": [
        "### Neural network (MLP)"
      ]
    },
    {
      "cell_type": "code",
      "metadata": {
        "id": "l0XEcggfNz8h"
      },
      "source": [
        "from sklearn.neural_network import MLPRegressor\r\n",
        "from sklearn.naive_bayes import GaussianNB\r\n",
        "from sklearn.preprocessing import StandardScaler\r\n",
        "\r\n",
        "def do_multi_layer_perception(x_train, y_train, x_test, y_test, layer_sizes):\r\n",
        "\r\n",
        "  scaler = StandardScaler()\r\n",
        "  scaler.fit(x_train)\r\n",
        "\r\n",
        "  MLPReg = MLPRegressor(alpha = 1e-4, hidden_layer_sizes = layer_sizes, random_state = 12, max_iter = 500, \r\n",
        "                        activation = 'relu',verbose = True, early_stopping = True, learning_rate_init = 0.001)\r\n",
        "  mlp = MLPReg.fit(scaler.transform(x_train), y_train)\r\n",
        "\r\n",
        "  y_predicted_mlp = mlp.predict(scaler.transform(x_test))\r\n",
        "\r\n",
        "  y_predicted_mlp = np.exp(y_predicted_mlp) - 1\r\n",
        "  y_predicted_mlp = y_predicted_mlp.reshape(len(y_predicted_mlp),1)\r\n",
        "\r\n",
        "  eval = get_metrics(y_test, y_predicted_mlp)\r\n",
        "\r\n",
        "  return mlp, eval"
      ],
      "execution_count": 144,
      "outputs": []
    },
    {
      "cell_type": "markdown",
      "metadata": {
        "id": "1gsFSfpRWV-Z"
      },
      "source": [
        "### Keras regression neural network (DDN)"
      ]
    },
    {
      "cell_type": "code",
      "metadata": {
        "id": "J7dpMEx_YJmX"
      },
      "source": [
        "def build_and_compile_model(norm):\r\n",
        "  model = keras.Sequential([\r\n",
        "      norm,\r\n",
        "      layers.Dense(64, activation='relu'),\r\n",
        "      layers.Dense(64, activation='relu'),\r\n",
        "      layers.Dense(1)\r\n",
        "  ])\r\n",
        "\r\n",
        "  model.compile(loss='mean_absolute_error',\r\n",
        "                optimizer=tf.keras.optimizers.Adam(0.001))\r\n",
        "  return model"
      ],
      "execution_count": 40,
      "outputs": []
    },
    {
      "cell_type": "code",
      "metadata": {
        "id": "US8sHnkib5zG"
      },
      "source": [
        "def plot_loss(history):\r\n",
        "  plt.plot(history.history['loss'], label='loss')\r\n",
        "  plt.plot(history.history['val_loss'], label='val_loss')\r\n",
        "  plt.ylim([0, 10])\r\n",
        "  plt.xlabel('Epoch')\r\n",
        "  plt.ylabel('Error [MPG]')\r\n",
        "  plt.legend()\r\n",
        "  plt.grid(True)"
      ],
      "execution_count": 39,
      "outputs": []
    },
    {
      "cell_type": "code",
      "metadata": {
        "id": "gl2Qs7PKWbCL"
      },
      "source": [
        "import tensorflow as tf\r\n",
        "from tensorflow import keras\r\n",
        "from tensorflow.keras import layers\r\n",
        "from tensorflow.keras.layers.experimental import preprocessing\r\n",
        "from keras.callbacks import EarlyStopping\r\n",
        "\r\n",
        "def do_DDN_network(x_train, y_train, x_test, y_test, epochs):\r\n",
        "\r\n",
        "  # normalization layer\r\n",
        "  normalizer = preprocessing.Normalization()\r\n",
        "  normalizer.adapt(np.array(x_train))\r\n",
        "\r\n",
        "  # dnn model\r\n",
        "  dnn_model = build_and_compile_model(normalizer)\r\n",
        "  dnn_model.summary()\r\n",
        "\r\n",
        "  # simple early stopping\r\n",
        "  es = EarlyStopping(monitor='val_loss', mode='min', verbose=1, patience=10)\r\n",
        "  # fit model\r\n",
        "  %%time\r\n",
        "  history = dnn_model.fit(x_train, y_train, validation_split=0.2, verbose=True, epochs=epochs, callbacks=[es])\r\n",
        "\r\n",
        "  plot_loss(history)\r\n",
        "\r\n",
        "  y_predicted_dnn = dnn_model.predict(x_test)\r\n",
        "\r\n",
        "  y_predicted_dnn = np.exp(y_predicted_dnn) - 1\r\n",
        "  y_predicted_dnn = y_predicted_dnn.reshape(len(y_predicted_dnn),1)\r\n",
        "\r\n",
        "  eval = get_metrics(y_test, y_predicted_dnn)\r\n",
        "\r\n",
        "  return dnn_model, eval"
      ],
      "execution_count": 145,
      "outputs": []
    },
    {
      "cell_type": "markdown",
      "metadata": {
        "id": "JCFsYkQ6rAPC"
      },
      "source": [
        "### Selection 1"
      ]
    },
    {
      "cell_type": "code",
      "metadata": {
        "id": "jJmKbGRXapF_"
      },
      "source": [
        "import pandas as pd \r\n",
        "import numpy as np\r\n",
        "import matplotlib.pyplot as plt"
      ],
      "execution_count": 146,
      "outputs": []
    },
    {
      "cell_type": "code",
      "metadata": {
        "id": "5Xu2AQgprDup"
      },
      "source": [
        "train_1 = pd.read_csv(f\"{path_train}Clean_Train_1.csv\")\r\n",
        "train_1.columns\r\n",
        "\r\n",
        "test_1 = pd.read_csv(f\"{path_test}Clean_Test_1.csv\")\r\n",
        "test_1.columns\r\n",
        "\r\n",
        "all_metrics_1 = []"
      ],
      "execution_count": 147,
      "outputs": []
    },
    {
      "cell_type": "code",
      "metadata": {
        "id": "G81Lwz-lrV3t"
      },
      "source": [
        "train_1 = train_1.sample(100000)"
      ],
      "execution_count": 148,
      "outputs": []
    },
    {
      "cell_type": "code",
      "metadata": {
        "id": "p5CnMQIAFAU9"
      },
      "source": [
        "train_1[\"log_Target_Variable\"] = np.log(1 + train_1[\"Target_variable\"])\r\n",
        "# test_1[\"log_Target_Variable\"] = np.log(1 + test_1[\"Target_variable\"])"
      ],
      "execution_count": 149,
      "outputs": []
    },
    {
      "cell_type": "code",
      "metadata": {
        "id": "A1v34hWIrfKE"
      },
      "source": [
        "x_train_1 = train_1.iloc[:,:11]\r\n",
        "y_train_1 = train_1.iloc[:,-1:]\r\n",
        "\r\n",
        "x_test_1 = test_1.iloc[:,:-1]\r\n",
        "y_test_1 = test_1.iloc[:,-1:]"
      ],
      "execution_count": 150,
      "outputs": []
    },
    {
      "cell_type": "markdown",
      "metadata": {
        "id": "7S_N0WkvrzUC"
      },
      "source": [
        "Regression lineaire"
      ]
    },
    {
      "cell_type": "code",
      "metadata": {
        "id": "_d8trKGor1GR",
        "colab": {
          "base_uri": "https://localhost:8080/",
          "height": 631
        },
        "outputId": "d8559c1f-f8a8-42ee-e144-392d90020b93"
      },
      "source": [
        "import numpy as np\r\n",
        "\r\n",
        "metric = do_linear_regression(x_train_1, y_train_1, x_test_1, y_test_1)\r\n",
        "all_metrics_1.append(metric)"
      ],
      "execution_count": 151,
      "outputs": [
        {
          "output_type": "stream",
          "text": [
            "Mean absolute error : 25.608694985263284 \n",
            "Root mean square error : 106.86441964748359 \n",
            "R_2 score : -0.04161357929358123\n"
          ],
          "name": "stdout"
        },
        {
          "output_type": "display_data",
          "data": {
            "image/png": "[encoded data removed]",
            "text/plain": [
              "<Figure size 1080x576 with 2 Axes>"
            ]
          },
          "metadata": {
            "tags": [],
            "needs_background": "light"
          }
        }
      ]
    },
    {
      "cell_type": "markdown",
      "metadata": {
        "id": "_bYyEFVAr85S"
      },
      "source": [
        "Gradient boosting"
      ]
    },
    {
      "cell_type": "code",
      "metadata": {
        "id": "alBQl04nsDB3",
        "colab": {
          "base_uri": "https://localhost:8080/",
          "height": 685
        },
        "outputId": "a954b8db-9633-4b21-db9f-3fc542d41050"
      },
      "source": [
        "metric = do_gradient_boosting(x_train_1, y_train_1, x_test_1, y_test_1)\r\n",
        "all_metrics_1.append(metric)"
      ],
      "execution_count": 152,
      "outputs": [
        {
          "output_type": "stream",
          "text": [
            "/usr/local/lib/python3.6/dist-packages/sklearn/ensemble/_gb.py:1454: DataConversionWarning: A column-vector y was passed when a 1d array was expected. Please change the shape of y to (n_samples, ), for example using ravel().\n",
            "  y = column_or_1d(y, warn=True)\n"
          ],
          "name": "stderr"
        },
        {
          "output_type": "stream",
          "text": [
            "Mean absolute error : 19.045347336757693 \n",
            "Root mean square error : 87.62734478889705 \n",
            "R_2 score : 0.2996426763025941\n"
          ],
          "name": "stdout"
        },
        {
          "output_type": "display_data",
          "data": {
            "image/png": "[encoded data removed]",
            "text/plain": [
              "<Figure size 1080x576 with 2 Axes>"
            ]
          },
          "metadata": {
            "tags": [],
            "needs_background": "light"
          }
        }
      ]
    },
    {
      "cell_type": "markdown",
      "metadata": {
        "id": "S3Xa_xFOyhXO"
      },
      "source": [
        "Poly regression"
      ]
    },
    {
      "cell_type": "code",
      "metadata": {
        "colab": {
          "base_uri": "https://localhost:8080/",
          "height": 631
        },
        "id": "piM2ng8qyf2X",
        "outputId": "f0a6a934-4df2-4a2c-8381-c570e0c61e63"
      },
      "source": [
        "metric = do_poly_regression(x_train_1, y_train_1, x_test_1, y_test_1)\r\n",
        "all_metrics_1.append(metric)"
      ],
      "execution_count": 153,
      "outputs": [
        {
          "output_type": "stream",
          "text": [
            "Mean absolute error : 25.659396234038894 \n",
            "Root mean square error : 107.23925210078791 \n",
            "R_2 score : -0.048933420682877315\n"
          ],
          "name": "stdout"
        },
        {
          "output_type": "display_data",
          "data": {
            "image/png": "[encoded data removed]",
            "text/plain": [
              "<Figure size 1080x576 with 2 Axes>"
            ]
          },
          "metadata": {
            "tags": [],
            "needs_background": "light"
          }
        }
      ]
    },
    {
      "cell_type": "markdown",
      "metadata": {
        "id": "Edu0mSaB0cof"
      },
      "source": [
        "Random forest"
      ]
    },
    {
      "cell_type": "code",
      "metadata": {
        "colab": {
          "base_uri": "https://localhost:8080/",
          "height": 685
        },
        "id": "-awke6ss0cGT",
        "outputId": "7c92663f-801f-4b12-b35e-0171b72f8f7e"
      },
      "source": [
        "rf, metric = do_random_forest(x_train_1, y_train_1, x_test_1, y_test_1)\r\n",
        "all_metrics_1.append(metric)"
      ],
      "execution_count": 154,
      "outputs": [
        {
          "output_type": "stream",
          "text": [
            "/usr/local/lib/python3.6/dist-packages/ipykernel_launcher.py:7: DataConversionWarning: A column-vector y was passed when a 1d array was expected. Please change the shape of y to (n_samples,), for example using ravel().\n",
            "  import sys\n"
          ],
          "name": "stderr"
        },
        {
          "output_type": "stream",
          "text": [
            "Mean absolute error : 19.476137210491572 \n",
            "Root mean square error : 85.58145134738157 \n",
            "R_2 score : 0.3319643114291809\n"
          ],
          "name": "stdout"
        },
        {
          "output_type": "display_data",
          "data": {
            "image/png": "[encoded data removed]",
            "text/plain": [
              "<Figure size 1080x576 with 2 Axes>"
            ]
          },
          "metadata": {
            "tags": [],
            "needs_background": "light"
          }
        }
      ]
    },
    {
      "cell_type": "code",
      "metadata": {
        "colab": {
          "base_uri": "https://localhost:8080/"
        },
        "id": "DnW13hOk1KB_",
        "outputId": "25fea8bc-5489-4570-d042-3a1494b18163"
      },
      "source": [
        "print(f\"{np.argsort(rf.feature_importances_)[::-1]} \\n{train_1.columns.to_list()}\")"
      ],
      "execution_count": 155,
      "outputs": [
        {
          "output_type": "stream",
          "text": [
            "[ 1  8  6  5  0  3  4  7  2  9 10] \n",
            "['CC1', 'CC2', 'CC3', 'CC4', 'CC5', 'Page_talking_about', 'Post_share_count', 'Page_category', 'Base_time', 'Post_published_day_num', 'Base_DateTime_day_num', 'Target_variable', 'log_Target_Variable']\n"
          ],
          "name": "stdout"
        }
      ]
    },
    {
      "cell_type": "markdown",
      "metadata": {
        "id": "6nvY0exZo7Cp"
      },
      "source": [
        "MLP"
      ]
    },
    {
      "cell_type": "code",
      "metadata": {
        "colab": {
          "base_uri": "https://localhost:8080/",
          "height": 1000
        },
        "id": "9MY9ijnBPg-Z",
        "outputId": "9245cdd2-299f-45ca-b5dd-859a57b14d7c"
      },
      "source": [
        "model, metric = do_multi_layer_perception(x_train_1, y_train_1, x_test_1, y_test_1, (20,4,))\r\n",
        "all_metrics_1.append(metric)"
      ],
      "execution_count": 156,
      "outputs": [
        {
          "output_type": "stream",
          "text": [
            "/usr/local/lib/python3.6/dist-packages/sklearn/neural_network/_multilayer_perceptron.py:1342: DataConversionWarning: A column-vector y was passed when a 1d array was expected. Please change the shape of y to (n_samples, ), for example using ravel().\n",
            "  y = column_or_1d(y, warn=True)\n"
          ],
          "name": "stderr"
        },
        {
          "output_type": "stream",
          "text": [
            "Iteration 1, loss = 0.42687354\n",
            "Validation score: 0.684443\n",
            "Iteration 2, loss = 0.21509432\n",
            "Validation score: 0.732812\n",
            "Iteration 3, loss = 0.19222905\n",
            "Validation score: 0.745573\n",
            "Iteration 4, loss = 0.18251399\n",
            "Validation score: 0.754139\n",
            "Iteration 5, loss = 0.17570028\n",
            "Validation score: 0.759602\n",
            "Iteration 6, loss = 0.17118029\n",
            "Validation score: 0.764505\n",
            "Iteration 7, loss = 0.16734338\n",
            "Validation score: 0.771542\n",
            "Iteration 8, loss = 0.16431196\n",
            "Validation score: 0.774781\n",
            "Iteration 9, loss = 0.16236089\n",
            "Validation score: 0.774951\n",
            "Iteration 10, loss = 0.16091863\n",
            "Validation score: 0.776990\n",
            "Iteration 11, loss = 0.15904509\n",
            "Validation score: 0.777687\n",
            "Iteration 12, loss = 0.15750453\n",
            "Validation score: 0.779319\n",
            "Iteration 13, loss = 0.15593284\n",
            "Validation score: 0.783672\n",
            "Iteration 14, loss = 0.15474811\n",
            "Validation score: 0.785589\n",
            "Iteration 15, loss = 0.15400076\n",
            "Validation score: 0.785361\n",
            "Iteration 16, loss = 0.15288443\n",
            "Validation score: 0.785470\n",
            "Iteration 17, loss = 0.15273258\n",
            "Validation score: 0.785089\n",
            "Iteration 18, loss = 0.15134374\n",
            "Validation score: 0.788238\n",
            "Iteration 19, loss = 0.15174301\n",
            "Validation score: 0.788647\n",
            "Iteration 20, loss = 0.15044944\n",
            "Validation score: 0.789198\n",
            "Iteration 21, loss = 0.15008451\n",
            "Validation score: 0.790349\n",
            "Iteration 22, loss = 0.15000816\n",
            "Validation score: 0.787866\n",
            "Iteration 23, loss = 0.14938774\n",
            "Validation score: 0.790535\n",
            "Iteration 24, loss = 0.14898701\n",
            "Validation score: 0.790866\n",
            "Iteration 25, loss = 0.14861698\n",
            "Validation score: 0.791868\n",
            "Iteration 26, loss = 0.14849177\n",
            "Validation score: 0.791041\n",
            "Iteration 27, loss = 0.14862939\n",
            "Validation score: 0.791807\n",
            "Iteration 28, loss = 0.14828741\n",
            "Validation score: 0.789890\n",
            "Iteration 29, loss = 0.14747271\n",
            "Validation score: 0.792549\n",
            "Iteration 30, loss = 0.14742295\n",
            "Validation score: 0.793847\n",
            "Iteration 31, loss = 0.14735513\n",
            "Validation score: 0.793525\n",
            "Iteration 32, loss = 0.14685717\n",
            "Validation score: 0.792437\n",
            "Iteration 33, loss = 0.14700513\n",
            "Validation score: 0.795315\n",
            "Iteration 34, loss = 0.14681351\n",
            "Validation score: 0.794227\n",
            "Iteration 35, loss = 0.14637400\n",
            "Validation score: 0.794970\n",
            "Iteration 36, loss = 0.14618322\n",
            "Validation score: 0.796284\n",
            "Iteration 37, loss = 0.14570588\n",
            "Validation score: 0.793731\n",
            "Iteration 38, loss = 0.14594803\n",
            "Validation score: 0.796904\n",
            "Iteration 39, loss = 0.14571380\n",
            "Validation score: 0.796194\n",
            "Iteration 40, loss = 0.14553836\n",
            "Validation score: 0.796337\n",
            "Iteration 41, loss = 0.14544067\n",
            "Validation score: 0.792336\n",
            "Iteration 42, loss = 0.14530072\n",
            "Validation score: 0.797588\n",
            "Iteration 43, loss = 0.14598248\n",
            "Validation score: 0.793912\n",
            "Iteration 44, loss = 0.14534017\n",
            "Validation score: 0.797074\n",
            "Iteration 45, loss = 0.14492784\n",
            "Validation score: 0.797051\n",
            "Iteration 46, loss = 0.14475110\n",
            "Validation score: 0.797961\n",
            "Iteration 47, loss = 0.14450564\n",
            "Validation score: 0.797736\n",
            "Iteration 48, loss = 0.14461293\n",
            "Validation score: 0.797906\n",
            "Iteration 49, loss = 0.14470215\n",
            "Validation score: 0.798037\n",
            "Iteration 50, loss = 0.14432148\n",
            "Validation score: 0.797164\n",
            "Iteration 51, loss = 0.14421913\n",
            "Validation score: 0.797038\n",
            "Iteration 52, loss = 0.14403104\n",
            "Validation score: 0.798039\n",
            "Iteration 53, loss = 0.14392933\n",
            "Validation score: 0.799706\n",
            "Iteration 54, loss = 0.14392392\n",
            "Validation score: 0.797574\n",
            "Iteration 55, loss = 0.14389956\n",
            "Validation score: 0.797477\n",
            "Iteration 56, loss = 0.14369618\n",
            "Validation score: 0.796782\n",
            "Iteration 57, loss = 0.14384193\n",
            "Validation score: 0.797073\n",
            "Iteration 58, loss = 0.14327353\n",
            "Validation score: 0.798201\n",
            "Iteration 59, loss = 0.14334719\n",
            "Validation score: 0.799718\n",
            "Iteration 60, loss = 0.14310758\n",
            "Validation score: 0.796671\n",
            "Iteration 61, loss = 0.14338305\n",
            "Validation score: 0.799464\n",
            "Iteration 62, loss = 0.14314650\n",
            "Validation score: 0.799120\n",
            "Iteration 63, loss = 0.14297466\n",
            "Validation score: 0.800512\n",
            "Iteration 64, loss = 0.14291780\n",
            "Validation score: 0.799709\n",
            "Iteration 65, loss = 0.14282887\n",
            "Validation score: 0.799168\n",
            "Iteration 66, loss = 0.14256118\n",
            "Validation score: 0.800393\n",
            "Iteration 67, loss = 0.14251114\n",
            "Validation score: 0.800402\n",
            "Iteration 68, loss = 0.14243783\n",
            "Validation score: 0.799838\n",
            "Iteration 69, loss = 0.14239585\n",
            "Validation score: 0.796097\n",
            "Iteration 70, loss = 0.14275938\n",
            "Validation score: 0.800177\n",
            "Iteration 71, loss = 0.14251825\n",
            "Validation score: 0.800805\n",
            "Iteration 72, loss = 0.14219542\n",
            "Validation score: 0.799141\n",
            "Iteration 73, loss = 0.14206356\n",
            "Validation score: 0.797844\n",
            "Iteration 74, loss = 0.14215453\n",
            "Validation score: 0.798791\n",
            "Iteration 75, loss = 0.14209357\n",
            "Validation score: 0.800937\n",
            "Iteration 76, loss = 0.14178724\n",
            "Validation score: 0.800535\n",
            "Iteration 77, loss = 0.14202028\n",
            "Validation score: 0.800077\n",
            "Iteration 78, loss = 0.14156325\n",
            "Validation score: 0.797398\n",
            "Iteration 79, loss = 0.14169861\n",
            "Validation score: 0.801760\n",
            "Iteration 80, loss = 0.14153452\n",
            "Validation score: 0.801554\n",
            "Iteration 81, loss = 0.14166891\n",
            "Validation score: 0.799304\n",
            "Iteration 82, loss = 0.14123300\n",
            "Validation score: 0.801191\n",
            "Iteration 83, loss = 0.14139352\n",
            "Validation score: 0.800775\n",
            "Iteration 84, loss = 0.14115602\n",
            "Validation score: 0.800727\n",
            "Iteration 85, loss = 0.14104467\n",
            "Validation score: 0.799506\n",
            "Iteration 86, loss = 0.14119763\n",
            "Validation score: 0.800958\n",
            "Iteration 87, loss = 0.14103164\n",
            "Validation score: 0.796773\n",
            "Iteration 88, loss = 0.14092213\n",
            "Validation score: 0.801274\n",
            "Iteration 89, loss = 0.14086398\n",
            "Validation score: 0.802487\n",
            "Iteration 90, loss = 0.14109262\n",
            "Validation score: 0.802239\n",
            "Iteration 91, loss = 0.14107344\n",
            "Validation score: 0.799781\n",
            "Iteration 92, loss = 0.14107990\n",
            "Validation score: 0.802030\n",
            "Iteration 93, loss = 0.14056124\n",
            "Validation score: 0.801113\n",
            "Iteration 94, loss = 0.14073924\n",
            "Validation score: 0.800807\n",
            "Iteration 95, loss = 0.14060753\n",
            "Validation score: 0.801678\n",
            "Iteration 96, loss = 0.14063640\n",
            "Validation score: 0.801500\n",
            "Iteration 97, loss = 0.14061573\n",
            "Validation score: 0.801249\n",
            "Iteration 98, loss = 0.14029699\n",
            "Validation score: 0.800949\n",
            "Iteration 99, loss = 0.14048165\n",
            "Validation score: 0.801561\n",
            "Iteration 100, loss = 0.14013553\n",
            "Validation score: 0.801788\n",
            "Validation score did not improve more than tol=0.000100 for 10 consecutive epochs. Stopping.\n",
            "Mean absolute error : 28.022777552466394 \n",
            "Root mean square error : 163.24490940892179 \n",
            "R_2 score : -1.4306345362281045\n"
          ],
          "name": "stdout"
        },
        {
          "output_type": "display_data",
          "data": {
            "image/png": "[encoded data removed]",
            "text/plain": [
              "<Figure size 1080x576 with 2 Axes>"
            ]
          },
          "metadata": {
            "tags": [],
            "needs_background": "light"
          }
        }
      ]
    },
    {
      "cell_type": "code",
      "metadata": {
        "colab": {
          "base_uri": "https://localhost:8080/",
          "height": 1000
        },
        "id": "fuJhQ0nYVTEk",
        "outputId": "836dbd8c-119e-4a19-9a45-fd2cbf6085c2"
      },
      "source": [
        "model_dnn, metric = do_DDN_network(x_train_1, y_train_1, x_test_1, y_test_1, 20)\r\n",
        "all_metrics_1.append(metric)"
      ],
      "execution_count": 157,
      "outputs": [
        {
          "output_type": "stream",
          "text": [
            "Model: \"sequential_2\"\n",
            "_________________________________________________________________\n",
            "Layer (type)                 Output Shape              Param #   \n",
            "=================================================================\n",
            "normalization_3 (Normalizati (None, 11)                23        \n",
            "_________________________________________________________________\n",
            "dense_6 (Dense)              (None, 64)                768       \n",
            "_________________________________________________________________\n",
            "dense_7 (Dense)              (None, 64)                4160      \n",
            "_________________________________________________________________\n",
            "dense_8 (Dense)              (None, 1)                 65        \n",
            "=================================================================\n",
            "Total params: 5,016\n",
            "Trainable params: 4,993\n",
            "Non-trainable params: 23\n",
            "_________________________________________________________________\n",
            "CPU times: user 3 µs, sys: 0 ns, total: 3 µs\n",
            "Wall time: 6.44 µs\n",
            "Epoch 1/20\n",
            "2500/2500 [==============================] - 7s 3ms/step - loss: 0.4429 - val_loss: 0.3565\n",
            "Epoch 2/20\n",
            "2500/2500 [==============================] - 4s 2ms/step - loss: 0.3570 - val_loss: 0.3480\n",
            "Epoch 3/20\n",
            "2500/2500 [==============================] - 4s 2ms/step - loss: 0.3455 - val_loss: 0.3406\n",
            "Epoch 4/20\n",
            "2500/2500 [==============================] - 4s 2ms/step - loss: 0.3434 - val_loss: 0.3329\n",
            "Epoch 5/20\n",
            "2500/2500 [==============================] - 4s 2ms/step - loss: 0.3344 - val_loss: 0.3315\n",
            "Epoch 6/20\n",
            "2500/2500 [==============================] - 4s 2ms/step - loss: 0.3356 - val_loss: 0.3322\n",
            "Epoch 7/20\n",
            "2500/2500 [==============================] - 4s 2ms/step - loss: 0.3303 - val_loss: 0.3237\n",
            "Epoch 8/20\n",
            "2500/2500 [==============================] - 4s 2ms/step - loss: 0.3294 - val_loss: 0.3281\n",
            "Epoch 9/20\n",
            "2500/2500 [==============================] - 4s 2ms/step - loss: 0.3269 - val_loss: 0.3226\n",
            "Epoch 10/20\n",
            "2500/2500 [==============================] - 4s 2ms/step - loss: 0.3242 - val_loss: 0.3268\n",
            "Epoch 11/20\n",
            "2500/2500 [==============================] - 4s 1ms/step - loss: 0.3229 - val_loss: 0.3298\n",
            "Epoch 12/20\n",
            "2500/2500 [==============================] - 4s 1ms/step - loss: 0.3211 - val_loss: 0.3257\n",
            "Epoch 13/20\n",
            "2500/2500 [==============================] - 4s 1ms/step - loss: 0.3222 - val_loss: 0.3214\n",
            "Epoch 14/20\n",
            "2500/2500 [==============================] - 4s 1ms/step - loss: 0.3233 - val_loss: 0.3187\n",
            "Epoch 15/20\n",
            "2500/2500 [==============================] - 4s 2ms/step - loss: 0.3203 - val_loss: 0.3197\n",
            "Epoch 16/20\n",
            "2500/2500 [==============================] - 4s 1ms/step - loss: 0.3197 - val_loss: 0.3206\n",
            "Epoch 17/20\n",
            "2500/2500 [==============================] - 4s 1ms/step - loss: 0.3192 - val_loss: 0.3188\n",
            "Epoch 18/20\n",
            "2500/2500 [==============================] - 4s 1ms/step - loss: 0.3193 - val_loss: 0.3174\n",
            "Epoch 19/20\n",
            "2500/2500 [==============================] - 4s 2ms/step - loss: 0.3210 - val_loss: 0.3274\n",
            "Epoch 20/20\n",
            "2500/2500 [==============================] - 4s 1ms/step - loss: 0.3181 - val_loss: 0.3207\n",
            "Mean absolute error : 24.661686308145523 \n",
            "Root mean square error : 100.06262459673565 \n",
            "R_2 score : 0.08676163041230667\n"
          ],
          "name": "stdout"
        },
        {
          "output_type": "display_data",
          "data": {
            "image/png": "[encoded data removed]",
            "text/plain": [
              "<Figure size 432x288 with 1 Axes>"
            ]
          },
          "metadata": {
            "tags": [],
            "needs_background": "light"
          }
        },
        {
          "output_type": "display_data",
          "data": {
            "image/png": "[encoded data removed]",
            "text/plain": [
              "<Figure size 1080x576 with 2 Axes>"
            ]
          },
          "metadata": {
            "tags": [],
            "needs_background": "light"
          }
        }
      ]
    },
    {
      "cell_type": "code",
      "metadata": {
        "colab": {
          "base_uri": "https://localhost:8080/",
          "height": 225
        },
        "id": "PL2ZZRNls2yL",
        "outputId": "918bd7b9-ada7-445c-83c3-ad74292e4d76"
      },
      "source": [
        "results = pd.DataFrame(all_metrics_1)\r\n",
        "results[\"Model\"] = [\"Linear regression\", \"Gradient Boosting\", \"Polynomial Regression\", \"Random Forest\", \"MLP\", \"DNN\"]\r\n",
        "results = results[[\"Model\", \"Mean_absolute_error\", \"Root_mean_square_error\", \"R_2_Score\"]]\r\n",
        "results"
      ],
      "execution_count": 175,
      "outputs": [
        {
          "output_type": "execute_result",
          "data": {
            "text/html": [
              "<div>\n",
              "<style scoped>\n",
              "    .dataframe tbody tr th:only-of-type {\n",
              "        vertical-align: middle;\n",
              "    }\n",
              "\n",
              "    .dataframe tbody tr th {\n",
              "        vertical-align: top;\n",
              "    }\n",
              "\n",
              "    .dataframe thead th {\n",
              "        text-align: right;\n",
              "    }\n",
              "</style>\n",
              "<table border=\"1\" class=\"dataframe\">\n",
              "  <thead>\n",
              "    <tr style=\"text-align: right;\">\n",
              "      <th></th>\n",
              "      <th>Model</th>\n",
              "      <th>Mean_absolute_error</th>\n",
              "      <th>Root_mean_square_error</th>\n",
              "      <th>R_2_Score</th>\n",
              "    </tr>\n",
              "  </thead>\n",
              "  <tbody>\n",
              "    <tr>\n",
              "      <th>0</th>\n",
              "      <td>Linear regression</td>\n",
              "      <td>25.608695</td>\n",
              "      <td>106.864420</td>\n",
              "      <td>-0.041614</td>\n",
              "    </tr>\n",
              "    <tr>\n",
              "      <th>1</th>\n",
              "      <td>Gradient Boosting</td>\n",
              "      <td>19.045347</td>\n",
              "      <td>87.627345</td>\n",
              "      <td>0.299643</td>\n",
              "    </tr>\n",
              "    <tr>\n",
              "      <th>2</th>\n",
              "      <td>Polynomial Regression</td>\n",
              "      <td>25.659396</td>\n",
              "      <td>107.239252</td>\n",
              "      <td>-0.048933</td>\n",
              "    </tr>\n",
              "    <tr>\n",
              "      <th>3</th>\n",
              "      <td>Random Forest</td>\n",
              "      <td>19.476137</td>\n",
              "      <td>85.581451</td>\n",
              "      <td>0.331964</td>\n",
              "    </tr>\n",
              "    <tr>\n",
              "      <th>4</th>\n",
              "      <td>MLP</td>\n",
              "      <td>28.022778</td>\n",
              "      <td>163.244909</td>\n",
              "      <td>-1.430635</td>\n",
              "    </tr>\n",
              "    <tr>\n",
              "      <th>5</th>\n",
              "      <td>DNN</td>\n",
              "      <td>24.661686</td>\n",
              "      <td>100.062625</td>\n",
              "      <td>0.086762</td>\n",
              "    </tr>\n",
              "  </tbody>\n",
              "</table>\n",
              "</div>"
            ],
            "text/plain": [
              "                   Model  ...  R_2_Score\n",
              "0      Linear regression  ...  -0.041614\n",
              "1      Gradient Boosting  ...   0.299643\n",
              "2  Polynomial Regression  ...  -0.048933\n",
              "3          Random Forest  ...   0.331964\n",
              "4                    MLP  ...  -1.430635\n",
              "5                    DNN  ...   0.086762\n",
              "\n",
              "[6 rows x 4 columns]"
            ]
          },
          "metadata": {
            "tags": []
          },
          "execution_count": 175
        }
      ]
    },
    {
      "cell_type": "code",
      "metadata": {
        "id": "C-5MAFkHt1ny"
      },
      "source": [
        "results.to_csv(\"/content/drive/MyDrive/Python_For_Data_Analysis/Selection1.csv\", sep=',', index=False)"
      ],
      "execution_count": 176,
      "outputs": []
    },
    {
      "cell_type": "markdown",
      "metadata": {
        "id": "y9-NvLmcsHcu"
      },
      "source": [
        "### Selection 2"
      ]
    },
    {
      "cell_type": "code",
      "metadata": {
        "id": "7PNgDgTnmHkp"
      },
      "source": [
        "import pandas as pd \r\n",
        "import numpy as np\r\n",
        "import matplotlib.pyplot as plt"
      ],
      "execution_count": 95,
      "outputs": []
    },
    {
      "cell_type": "code",
      "metadata": {
        "id": "-R2rQz7lsKxa"
      },
      "source": [
        "train_2 = pd.read_csv(f\"{path_train}Clean_Train_2.csv\")\r\n",
        "test_2 = pd.read_csv(f\"{path_test}Clean_Test_2.csv\")\r\n",
        "\r\n",
        "all_metrics_2 = []"
      ],
      "execution_count": 177,
      "outputs": []
    },
    {
      "cell_type": "code",
      "metadata": {
        "id": "uTTZRJPLswXr"
      },
      "source": [
        "train_2 = train_2.sample(100000)"
      ],
      "execution_count": 178,
      "outputs": []
    },
    {
      "cell_type": "code",
      "metadata": {
        "id": "e5PSKPo8mV5x"
      },
      "source": [
        "train_2[\"log_Target_Variable\"] = np.log(1 + train_2[\"Target_variable\"])\r\n",
        "# test_1[\"log_Target_Variable\"] = np.log(1 + test_1[\"Target_variable\"])"
      ],
      "execution_count": 179,
      "outputs": []
    },
    {
      "cell_type": "code",
      "metadata": {
        "id": "4bJMXE8WsyUH"
      },
      "source": [
        "x_train_2 = train_2.iloc[:,:11]\r\n",
        "y_train_2 = train_2.iloc[:,-1:]\r\n",
        "\r\n",
        "x_test_2 = test_2.iloc[:,:-1]\r\n",
        "y_test_2 = test_2.iloc[:,-1:]"
      ],
      "execution_count": 180,
      "outputs": []
    },
    {
      "cell_type": "markdown",
      "metadata": {
        "id": "CqvsXn7mmcYV"
      },
      "source": [
        "Linear regression"
      ]
    },
    {
      "cell_type": "code",
      "metadata": {
        "colab": {
          "base_uri": "https://localhost:8080/",
          "height": 631
        },
        "id": "Jb8Qnwbrs6zh",
        "outputId": "74719f0b-3f80-40a7-d5c3-29bca2441b85"
      },
      "source": [
        "metric = do_linear_regression(x_train_2, y_train_2, x_test_2, y_test_2)\r\n",
        "all_metrics_2.append(metric)"
      ],
      "execution_count": 181,
      "outputs": [
        {
          "output_type": "stream",
          "text": [
            "Mean absolute error : 8.476263673506336 \n",
            "Root mean square error : 18.844371228911864 \n",
            "R_2 score : -0.11536922091943325\n"
          ],
          "name": "stdout"
        },
        {
          "output_type": "display_data",
          "data": {
            "image/png": "[encoded data removed]",
            "text/plain": [
              "<Figure size 1080x576 with 2 Axes>"
            ]
          },
          "metadata": {
            "tags": [],
            "needs_background": "light"
          }
        }
      ]
    },
    {
      "cell_type": "markdown",
      "metadata": {
        "id": "_d0cCJJHoTcI"
      },
      "source": [
        "Gradient boosting"
      ]
    },
    {
      "cell_type": "code",
      "metadata": {
        "colab": {
          "base_uri": "https://localhost:8080/",
          "height": 685
        },
        "id": "7JaEGLXytho1",
        "outputId": "64c7f4ab-0687-4b20-8466-a054c34f1c91"
      },
      "source": [
        "metric = do_gradient_boosting(x_train_2, y_train_2, x_test_2, y_test_2)\r\n",
        "all_metrics_2.append(metric)"
      ],
      "execution_count": 182,
      "outputs": [
        {
          "output_type": "stream",
          "text": [
            "/usr/local/lib/python3.6/dist-packages/sklearn/ensemble/_gb.py:1454: DataConversionWarning: A column-vector y was passed when a 1d array was expected. Please change the shape of y to (n_samples, ), for example using ravel().\n",
            "  y = column_or_1d(y, warn=True)\n"
          ],
          "name": "stderr"
        },
        {
          "output_type": "stream",
          "text": [
            "Mean absolute error : 6.767321502063534 \n",
            "Root mean square error : 13.668256063814681 \n",
            "R_2 score : 0.4132115373192855\n"
          ],
          "name": "stdout"
        },
        {
          "output_type": "display_data",
          "data": {
            "image/png": "[encoded data removed]",
            "text/plain": [
              "<Figure size 1080x576 with 2 Axes>"
            ]
          },
          "metadata": {
            "tags": [],
            "needs_background": "light"
          }
        }
      ]
    },
    {
      "cell_type": "markdown",
      "metadata": {
        "id": "0fFjty_uoVa9"
      },
      "source": [
        "Poly regression"
      ]
    },
    {
      "cell_type": "code",
      "metadata": {
        "colab": {
          "base_uri": "https://localhost:8080/",
          "height": 631
        },
        "id": "8aN129HqocJ-",
        "outputId": "990f3081-2956-4d4f-c95c-ca2ec2024791"
      },
      "source": [
        "metric = do_poly_regression(x_train_2, y_train_2, x_test_2, y_test_2)\r\n",
        "all_metrics_2.append(metric)"
      ],
      "execution_count": 183,
      "outputs": [
        {
          "output_type": "stream",
          "text": [
            "Mean absolute error : 8.522872469572423 \n",
            "Root mean square error : 19.246599989211248 \n",
            "R_2 score : -0.1634919800888479\n"
          ],
          "name": "stdout"
        },
        {
          "output_type": "display_data",
          "data": {
            "image/png": "[encoded data removed]",
            "text/plain": [
              "<Figure size 1080x576 with 2 Axes>"
            ]
          },
          "metadata": {
            "tags": [],
            "needs_background": "light"
          }
        }
      ]
    },
    {
      "cell_type": "markdown",
      "metadata": {
        "id": "rawo358_owJ-"
      },
      "source": [
        "Random forest"
      ]
    },
    {
      "cell_type": "code",
      "metadata": {
        "colab": {
          "base_uri": "https://localhost:8080/",
          "height": 685
        },
        "id": "rjpPrIsYoorB",
        "outputId": "a92368d0-2885-4ade-f7e6-b16ac0aae482"
      },
      "source": [
        "rf, metric = do_random_forest(x_train_2, y_train_2, x_test_2, y_test_2)\r\n",
        "all_metrics_2.append(metric)"
      ],
      "execution_count": 185,
      "outputs": [
        {
          "output_type": "stream",
          "text": [
            "/usr/local/lib/python3.6/dist-packages/ipykernel_launcher.py:7: DataConversionWarning: A column-vector y was passed when a 1d array was expected. Please change the shape of y to (n_samples,), for example using ravel().\n",
            "  import sys\n"
          ],
          "name": "stderr"
        },
        {
          "output_type": "stream",
          "text": [
            "Mean absolute error : 6.5542549582236 \n",
            "Root mean square error : 13.140795808387779 \n",
            "R_2 score : 0.4576262185302975\n"
          ],
          "name": "stdout"
        },
        {
          "output_type": "display_data",
          "data": {
            "image/png": "[encoded data removed]",
            "text/plain": [
              "<Figure size 1080x576 with 2 Axes>"
            ]
          },
          "metadata": {
            "tags": [],
            "needs_background": "light"
          }
        }
      ]
    },
    {
      "cell_type": "code",
      "metadata": {
        "colab": {
          "base_uri": "https://localhost:8080/"
        },
        "id": "GueON22oopJ6",
        "outputId": "0bc4e808-efc6-433c-9206-a72f28bee53f"
      },
      "source": [
        "print(f\"{np.argsort(rf.feature_importances_)[::-1]} \\n{train_1.columns.to_list()}\")"
      ],
      "execution_count": 186,
      "outputs": [
        {
          "output_type": "stream",
          "text": [
            "[ 1  8  6  5  7  0  3  4  2  9 10] \n",
            "['CC1', 'CC2', 'CC3', 'CC4', 'CC5', 'Page_talking_about', 'Post_share_count', 'Page_category', 'Base_time', 'Post_published_day_num', 'Base_DateTime_day_num', 'Target_variable', 'log_Target_Variable']\n"
          ],
          "name": "stdout"
        }
      ]
    },
    {
      "cell_type": "markdown",
      "metadata": {
        "id": "P0iNvNS1o3KZ"
      },
      "source": [
        "MLP"
      ]
    },
    {
      "cell_type": "code",
      "metadata": {
        "colab": {
          "base_uri": "https://localhost:8080/",
          "height": 1000
        },
        "id": "C9qxkA7io-zk",
        "outputId": "d2bbfd2e-077a-4440-9d96-9128ad211e31"
      },
      "source": [
        "model, metric = do_multi_layer_perception(x_train_2, y_train_2, x_test_2, y_test_2, (20,4,))\r\n",
        "all_metrics_2.append(metric)"
      ],
      "execution_count": 187,
      "outputs": [
        {
          "output_type": "stream",
          "text": [
            "/usr/local/lib/python3.6/dist-packages/sklearn/neural_network/_multilayer_perceptron.py:1342: DataConversionWarning: A column-vector y was passed when a 1d array was expected. Please change the shape of y to (n_samples, ), for example using ravel().\n",
            "  y = column_or_1d(y, warn=True)\n"
          ],
          "name": "stderr"
        },
        {
          "output_type": "stream",
          "text": [
            "Iteration 1, loss = 0.37504332\n",
            "Validation score: 0.655939\n",
            "Iteration 2, loss = 0.18884569\n",
            "Validation score: 0.709041\n",
            "Iteration 3, loss = 0.17146268\n",
            "Validation score: 0.723369\n",
            "Iteration 4, loss = 0.16505736\n",
            "Validation score: 0.733629\n",
            "Iteration 5, loss = 0.16035610\n",
            "Validation score: 0.740381\n",
            "Iteration 6, loss = 0.15708511\n",
            "Validation score: 0.743305\n",
            "Iteration 7, loss = 0.15427100\n",
            "Validation score: 0.747274\n",
            "Iteration 8, loss = 0.15196798\n",
            "Validation score: 0.750057\n",
            "Iteration 9, loss = 0.15020454\n",
            "Validation score: 0.754038\n",
            "Iteration 10, loss = 0.14897271\n",
            "Validation score: 0.756144\n",
            "Iteration 11, loss = 0.14793331\n",
            "Validation score: 0.756316\n",
            "Iteration 12, loss = 0.14690851\n",
            "Validation score: 0.760776\n",
            "Iteration 13, loss = 0.14617294\n",
            "Validation score: 0.760333\n",
            "Iteration 14, loss = 0.14564400\n",
            "Validation score: 0.761856\n",
            "Iteration 15, loss = 0.14476944\n",
            "Validation score: 0.763586\n",
            "Iteration 16, loss = 0.14406218\n",
            "Validation score: 0.764179\n",
            "Iteration 17, loss = 0.14339190\n",
            "Validation score: 0.765327\n",
            "Iteration 18, loss = 0.14295995\n",
            "Validation score: 0.765669\n",
            "Iteration 19, loss = 0.14204053\n",
            "Validation score: 0.765120\n",
            "Iteration 20, loss = 0.14174095\n",
            "Validation score: 0.767294\n",
            "Iteration 21, loss = 0.14144986\n",
            "Validation score: 0.769380\n",
            "Iteration 22, loss = 0.14083957\n",
            "Validation score: 0.768928\n",
            "Iteration 23, loss = 0.14071829\n",
            "Validation score: 0.769960\n",
            "Iteration 24, loss = 0.14046852\n",
            "Validation score: 0.769691\n",
            "Iteration 25, loss = 0.14030371\n",
            "Validation score: 0.770832\n",
            "Iteration 26, loss = 0.13996262\n",
            "Validation score: 0.769766\n",
            "Iteration 27, loss = 0.13978419\n",
            "Validation score: 0.768446\n",
            "Iteration 28, loss = 0.13948270\n",
            "Validation score: 0.771552\n",
            "Iteration 29, loss = 0.13929630\n",
            "Validation score: 0.772202\n",
            "Iteration 30, loss = 0.13903847\n",
            "Validation score: 0.772071\n",
            "Iteration 31, loss = 0.13887184\n",
            "Validation score: 0.772203\n",
            "Iteration 32, loss = 0.13879655\n",
            "Validation score: 0.772736\n",
            "Iteration 33, loss = 0.13836173\n",
            "Validation score: 0.770603\n",
            "Iteration 34, loss = 0.13836282\n",
            "Validation score: 0.770313\n",
            "Iteration 35, loss = 0.13781573\n",
            "Validation score: 0.772639\n",
            "Iteration 36, loss = 0.13762715\n",
            "Validation score: 0.770290\n",
            "Iteration 37, loss = 0.13754205\n",
            "Validation score: 0.771496\n",
            "Iteration 38, loss = 0.13738242\n",
            "Validation score: 0.773410\n",
            "Iteration 39, loss = 0.13739170\n",
            "Validation score: 0.771334\n",
            "Iteration 40, loss = 0.13704858\n",
            "Validation score: 0.771841\n",
            "Iteration 41, loss = 0.13706720\n",
            "Validation score: 0.772214\n",
            "Iteration 42, loss = 0.13708673\n",
            "Validation score: 0.770070\n",
            "Iteration 43, loss = 0.13670725\n",
            "Validation score: 0.772444\n",
            "Iteration 44, loss = 0.13669274\n",
            "Validation score: 0.773434\n",
            "Iteration 45, loss = 0.13655987\n",
            "Validation score: 0.772616\n",
            "Iteration 46, loss = 0.13617236\n",
            "Validation score: 0.773912\n",
            "Iteration 47, loss = 0.13638480\n",
            "Validation score: 0.773711\n",
            "Iteration 48, loss = 0.13624628\n",
            "Validation score: 0.774547\n",
            "Iteration 49, loss = 0.13593228\n",
            "Validation score: 0.774318\n",
            "Iteration 50, loss = 0.13580412\n",
            "Validation score: 0.770830\n",
            "Iteration 51, loss = 0.13595008\n",
            "Validation score: 0.774809\n",
            "Iteration 52, loss = 0.13562773\n",
            "Validation score: 0.773758\n",
            "Iteration 53, loss = 0.13571586\n",
            "Validation score: 0.773170\n",
            "Iteration 54, loss = 0.13549589\n",
            "Validation score: 0.775045\n",
            "Iteration 55, loss = 0.13525230\n",
            "Validation score: 0.774741\n",
            "Iteration 56, loss = 0.13537402\n",
            "Validation score: 0.774215\n",
            "Iteration 57, loss = 0.13517624\n",
            "Validation score: 0.774631\n",
            "Iteration 58, loss = 0.13527719\n",
            "Validation score: 0.774372\n",
            "Iteration 59, loss = 0.13505001\n",
            "Validation score: 0.776279\n",
            "Iteration 60, loss = 0.13508181\n",
            "Validation score: 0.776560\n",
            "Iteration 61, loss = 0.13486564\n",
            "Validation score: 0.775595\n",
            "Iteration 62, loss = 0.13474529\n",
            "Validation score: 0.774733\n",
            "Iteration 63, loss = 0.13464519\n",
            "Validation score: 0.773536\n",
            "Iteration 64, loss = 0.13482934\n",
            "Validation score: 0.775963\n",
            "Iteration 65, loss = 0.13446226\n",
            "Validation score: 0.776545\n",
            "Iteration 66, loss = 0.13485889\n",
            "Validation score: 0.775871\n",
            "Iteration 67, loss = 0.13448376\n",
            "Validation score: 0.775834\n",
            "Iteration 68, loss = 0.13446115\n",
            "Validation score: 0.776307\n",
            "Iteration 69, loss = 0.13422502\n",
            "Validation score: 0.775736\n",
            "Iteration 70, loss = 0.13458376\n",
            "Validation score: 0.777344\n",
            "Iteration 71, loss = 0.13434915\n",
            "Validation score: 0.777806\n",
            "Iteration 72, loss = 0.13414977\n",
            "Validation score: 0.775334\n",
            "Iteration 73, loss = 0.13408232\n",
            "Validation score: 0.773501\n",
            "Iteration 74, loss = 0.13405999\n",
            "Validation score: 0.776219\n",
            "Iteration 75, loss = 0.13401023\n",
            "Validation score: 0.776937\n",
            "Iteration 76, loss = 0.13423125\n",
            "Validation score: 0.776419\n",
            "Iteration 77, loss = 0.13402926\n",
            "Validation score: 0.778458\n",
            "Iteration 78, loss = 0.13391702\n",
            "Validation score: 0.777236\n",
            "Iteration 79, loss = 0.13370239\n",
            "Validation score: 0.776158\n",
            "Iteration 80, loss = 0.13405789\n",
            "Validation score: 0.776210\n",
            "Iteration 81, loss = 0.13373395\n",
            "Validation score: 0.778315\n",
            "Iteration 82, loss = 0.13362624\n",
            "Validation score: 0.776058\n",
            "Iteration 83, loss = 0.13358357\n",
            "Validation score: 0.775663\n",
            "Iteration 84, loss = 0.13390331\n",
            "Validation score: 0.777672\n",
            "Iteration 85, loss = 0.13357462\n",
            "Validation score: 0.777295\n",
            "Iteration 86, loss = 0.13398393\n",
            "Validation score: 0.777180\n",
            "Iteration 87, loss = 0.13350543\n",
            "Validation score: 0.775826\n",
            "Iteration 88, loss = 0.13350901\n",
            "Validation score: 0.777869\n",
            "Validation score did not improve more than tol=0.000100 for 10 consecutive epochs. Stopping.\n",
            "Mean absolute error : 7.9633651943615344 \n",
            "Root mean square error : 21.47280765576099 \n",
            "R_2 score : -0.44821493298236215\n"
          ],
          "name": "stdout"
        },
        {
          "output_type": "display_data",
          "data": {
            "image/png": "[encoded data removed]",
            "text/plain": [
              "<Figure size 1080x576 with 2 Axes>"
            ]
          },
          "metadata": {
            "tags": [],
            "needs_background": "light"
          }
        }
      ]
    },
    {
      "cell_type": "markdown",
      "metadata": {
        "id": "WXBvcez_pMr-"
      },
      "source": [
        "Regression neural network"
      ]
    },
    {
      "cell_type": "code",
      "metadata": {
        "colab": {
          "base_uri": "https://localhost:8080/",
          "height": 1000
        },
        "id": "MvjMlGUYpL6d",
        "outputId": "399446d5-4580-4e78-801c-a99163585155"
      },
      "source": [
        "model_dnn, metric = do_DDN_network(x_train_1, y_train_1, x_test_1, y_test_1, 20)\r\n",
        "all_metrics_2.append(metric)"
      ],
      "execution_count": 188,
      "outputs": [
        {
          "output_type": "stream",
          "text": [
            "Model: \"sequential_3\"\n",
            "_________________________________________________________________\n",
            "Layer (type)                 Output Shape              Param #   \n",
            "=================================================================\n",
            "normalization_4 (Normalizati (None, 11)                23        \n",
            "_________________________________________________________________\n",
            "dense_9 (Dense)              (None, 64)                768       \n",
            "_________________________________________________________________\n",
            "dense_10 (Dense)             (None, 64)                4160      \n",
            "_________________________________________________________________\n",
            "dense_11 (Dense)             (None, 1)                 65        \n",
            "=================================================================\n",
            "Total params: 5,016\n",
            "Trainable params: 4,993\n",
            "Non-trainable params: 23\n",
            "_________________________________________________________________\n",
            "CPU times: user 3 µs, sys: 0 ns, total: 3 µs\n",
            "Wall time: 6.68 µs\n",
            "Epoch 1/20\n",
            "2500/2500 [==============================] - 7s 3ms/step - loss: 0.4529 - val_loss: 0.3594\n",
            "Epoch 2/20\n",
            "2500/2500 [==============================] - 4s 2ms/step - loss: 0.3559 - val_loss: 0.3408\n",
            "Epoch 3/20\n",
            "2500/2500 [==============================] - 4s 2ms/step - loss: 0.3448 - val_loss: 0.3391\n",
            "Epoch 4/20\n",
            "2500/2500 [==============================] - 4s 2ms/step - loss: 0.3384 - val_loss: 0.3336\n",
            "Epoch 5/20\n",
            "2500/2500 [==============================] - 4s 2ms/step - loss: 0.3349 - val_loss: 0.3387\n",
            "Epoch 6/20\n",
            "2500/2500 [==============================] - 4s 2ms/step - loss: 0.3317 - val_loss: 0.3276\n",
            "Epoch 7/20\n",
            "2500/2500 [==============================] - 4s 2ms/step - loss: 0.3278 - val_loss: 0.3251\n",
            "Epoch 8/20\n",
            "2500/2500 [==============================] - 4s 2ms/step - loss: 0.3262 - val_loss: 0.3264\n",
            "Epoch 9/20\n",
            "2500/2500 [==============================] - 4s 2ms/step - loss: 0.3240 - val_loss: 0.3190\n",
            "Epoch 10/20\n",
            "2500/2500 [==============================] - 4s 2ms/step - loss: 0.3234 - val_loss: 0.3269\n",
            "Epoch 11/20\n",
            "2500/2500 [==============================] - 4s 2ms/step - loss: 0.3213 - val_loss: 0.3199\n",
            "Epoch 12/20\n",
            "2500/2500 [==============================] - 4s 1ms/step - loss: 0.3213 - val_loss: 0.3214\n",
            "Epoch 13/20\n",
            "2500/2500 [==============================] - 4s 2ms/step - loss: 0.3229 - val_loss: 0.3240\n",
            "Epoch 14/20\n",
            "2500/2500 [==============================] - 4s 2ms/step - loss: 0.3214 - val_loss: 0.3223\n",
            "Epoch 15/20\n",
            "2500/2500 [==============================] - 4s 1ms/step - loss: 0.3186 - val_loss: 0.3245\n",
            "Epoch 16/20\n",
            "2500/2500 [==============================] - 4s 1ms/step - loss: 0.3197 - val_loss: 0.3222\n",
            "Epoch 17/20\n",
            "2500/2500 [==============================] - 4s 2ms/step - loss: 0.3193 - val_loss: 0.3201\n",
            "Epoch 18/20\n",
            "2500/2500 [==============================] - 4s 1ms/step - loss: 0.3157 - val_loss: 0.3212\n",
            "Epoch 19/20\n",
            "2500/2500 [==============================] - 4s 1ms/step - loss: 0.3156 - val_loss: 0.3225\n",
            "Epoch 00019: early stopping\n",
            "Mean absolute error : 24.458313752293588 \n",
            "Root mean square error : 103.34619114681459 \n",
            "R_2 score : 0.025842181763738648\n"
          ],
          "name": "stdout"
        },
        {
          "output_type": "display_data",
          "data": {
            "image/png": "[encoded data removed]",
            "text/plain": [
              "<Figure size 432x288 with 1 Axes>"
            ]
          },
          "metadata": {
            "tags": [],
            "needs_background": "light"
          }
        },
        {
          "output_type": "display_data",
          "data": {
            "image/png": "[encoded data removed]",
            "text/plain": [
              "<Figure size 1080x576 with 2 Axes>"
            ]
          },
          "metadata": {
            "tags": [],
            "needs_background": "light"
          }
        }
      ]
    },
    {
      "cell_type": "code",
      "metadata": {
        "colab": {
          "base_uri": "https://localhost:8080/",
          "height": 225
        },
        "id": "GV-HlYbEz-sY",
        "outputId": "32d3f3aa-d029-46c1-d84c-6a5d531141e7"
      },
      "source": [
        "results = pd.DataFrame(all_metrics_2)\r\n",
        "results[\"Model\"] = [\"Linear regression\", \"Gradient Boosting\", \"Polynomial Regression\", \"Random Forest\", \"MLP\", \"DNN\"]\r\n",
        "results = results[[\"Model\", \"Mean_absolute_error\", \"Root_mean_square_error\", \"R_2_score\"]]\r\n",
        "results"
      ],
      "execution_count": 191,
      "outputs": [
        {
          "output_type": "execute_result",
          "data": {
            "text/html": [
              "<div>\n",
              "<style scoped>\n",
              "    .dataframe tbody tr th:only-of-type {\n",
              "        vertical-align: middle;\n",
              "    }\n",
              "\n",
              "    .dataframe tbody tr th {\n",
              "        vertical-align: top;\n",
              "    }\n",
              "\n",
              "    .dataframe thead th {\n",
              "        text-align: right;\n",
              "    }\n",
              "</style>\n",
              "<table border=\"1\" class=\"dataframe\">\n",
              "  <thead>\n",
              "    <tr style=\"text-align: right;\">\n",
              "      <th></th>\n",
              "      <th>Model</th>\n",
              "      <th>Mean_absolute_error</th>\n",
              "      <th>Root_mean_square_error</th>\n",
              "      <th>R_2_score</th>\n",
              "    </tr>\n",
              "  </thead>\n",
              "  <tbody>\n",
              "    <tr>\n",
              "      <th>0</th>\n",
              "      <td>Linear regression</td>\n",
              "      <td>8.476264</td>\n",
              "      <td>18.844371</td>\n",
              "      <td>-0.115369</td>\n",
              "    </tr>\n",
              "    <tr>\n",
              "      <th>1</th>\n",
              "      <td>Gradient Boosting</td>\n",
              "      <td>6.767322</td>\n",
              "      <td>13.668256</td>\n",
              "      <td>0.413212</td>\n",
              "    </tr>\n",
              "    <tr>\n",
              "      <th>2</th>\n",
              "      <td>Polynomial Regression</td>\n",
              "      <td>8.522872</td>\n",
              "      <td>19.246600</td>\n",
              "      <td>-0.163492</td>\n",
              "    </tr>\n",
              "    <tr>\n",
              "      <th>3</th>\n",
              "      <td>Random Forest</td>\n",
              "      <td>6.554255</td>\n",
              "      <td>13.140796</td>\n",
              "      <td>0.457626</td>\n",
              "    </tr>\n",
              "    <tr>\n",
              "      <th>4</th>\n",
              "      <td>MLP</td>\n",
              "      <td>7.963365</td>\n",
              "      <td>21.472808</td>\n",
              "      <td>-0.448215</td>\n",
              "    </tr>\n",
              "    <tr>\n",
              "      <th>5</th>\n",
              "      <td>DNN</td>\n",
              "      <td>24.458314</td>\n",
              "      <td>103.346191</td>\n",
              "      <td>0.025842</td>\n",
              "    </tr>\n",
              "  </tbody>\n",
              "</table>\n",
              "</div>"
            ],
            "text/plain": [
              "                   Model  ...  R_2_score\n",
              "0      Linear regression  ...  -0.115369\n",
              "1      Gradient Boosting  ...   0.413212\n",
              "2  Polynomial Regression  ...  -0.163492\n",
              "3          Random Forest  ...   0.457626\n",
              "4                    MLP  ...  -0.448215\n",
              "5                    DNN  ...   0.025842\n",
              "\n",
              "[6 rows x 4 columns]"
            ]
          },
          "metadata": {
            "tags": []
          },
          "execution_count": 191
        }
      ]
    },
    {
      "cell_type": "code",
      "metadata": {
        "id": "twrBRq6E0EpC"
      },
      "source": [
        "results.to_csv(\"/content/drive/MyDrive/Python_For_Data_Analysis/Selection2.csv\", sep=',', index=False)"
      ],
      "execution_count": 192,
      "outputs": []
    }
  ]
}